{
 "cells": [
  {
   "cell_type": "code",
   "execution_count": 1,
   "id": "34d6a6d8",
   "metadata": {},
   "outputs": [
    {
     "name": "stdout",
     "output_type": "stream",
     "text": [
      "Requirement already satisfied: selenium in c:\\programdata\\anaconda3\\lib\\site-packages (4.1.3)\n",
      "Requirement already satisfied: trio~=0.17 in c:\\programdata\\anaconda3\\lib\\site-packages (from selenium) (0.20.0)\n",
      "Requirement already satisfied: trio-websocket~=0.9 in c:\\programdata\\anaconda3\\lib\\site-packages (from selenium) (0.9.2)\n",
      "Requirement already satisfied: urllib3[secure,socks]~=1.26 in c:\\programdata\\anaconda3\\lib\\site-packages (from selenium) (1.26.4)\n",
      "Requirement already satisfied: sniffio in c:\\programdata\\anaconda3\\lib\\site-packages (from trio~=0.17->selenium) (1.2.0)\n",
      "Requirement already satisfied: sortedcontainers in c:\\programdata\\anaconda3\\lib\\site-packages (from trio~=0.17->selenium) (2.3.0)\n",
      "Requirement already satisfied: outcome in c:\\programdata\\anaconda3\\lib\\site-packages (from trio~=0.17->selenium) (1.1.0)\n",
      "Requirement already satisfied: idna in c:\\programdata\\anaconda3\\lib\\site-packages (from trio~=0.17->selenium) (2.10)\n",
      "Requirement already satisfied: async-generator>=1.9 in c:\\programdata\\anaconda3\\lib\\site-packages (from trio~=0.17->selenium) (1.10)\n",
      "Requirement already satisfied: attrs>=19.2.0 in c:\\programdata\\anaconda3\\lib\\site-packages (from trio~=0.17->selenium) (20.3.0)\n",
      "Requirement already satisfied: cffi>=1.14 in c:\\programdata\\anaconda3\\lib\\site-packages (from trio~=0.17->selenium) (1.14.5)\n",
      "Requirement already satisfied: pycparser in c:\\programdata\\anaconda3\\lib\\site-packages (from cffi>=1.14->trio~=0.17->selenium) (2.20)\n",
      "Requirement already satisfied: wsproto>=0.14 in c:\\programdata\\anaconda3\\lib\\site-packages (from trio-websocket~=0.9->selenium) (1.1.0)\n",
      "Requirement already satisfied: certifi in c:\\programdata\\anaconda3\\lib\\site-packages (from urllib3[secure,socks]~=1.26->selenium) (2020.12.5)\n",
      "Requirement already satisfied: cryptography>=1.3.4 in c:\\programdata\\anaconda3\\lib\\site-packages (from urllib3[secure,socks]~=1.26->selenium) (3.4.7)\n",
      "Requirement already satisfied: pyOpenSSL>=0.14 in c:\\programdata\\anaconda3\\lib\\site-packages (from urllib3[secure,socks]~=1.26->selenium) (20.0.1)\n",
      "Requirement already satisfied: PySocks!=1.5.7,<2.0,>=1.5.6 in c:\\programdata\\anaconda3\\lib\\site-packages (from urllib3[secure,socks]~=1.26->selenium) (1.7.1)\n",
      "Requirement already satisfied: six>=1.5.2 in c:\\programdata\\anaconda3\\lib\\site-packages (from pyOpenSSL>=0.14->urllib3[secure,socks]~=1.26->selenium) (1.15.0)\n",
      "Requirement already satisfied: h11<1,>=0.9.0 in c:\\programdata\\anaconda3\\lib\\site-packages (from wsproto>=0.14->trio-websocket~=0.9->selenium) (0.13.0)\n"
     ]
    }
   ],
   "source": [
    "!pip install selenium"
   ]
  },
  {
   "cell_type": "code",
   "execution_count": 2,
   "id": "11046a56",
   "metadata": {},
   "outputs": [],
   "source": [
    "import selenium\n",
    "from selenium import webdriver\n",
    "import pandas as pd\n",
    "import warnings\n",
    "warnings.filterwarnings(\"ignore\")"
   ]
  },
  {
   "cell_type": "code",
   "execution_count": 3,
   "id": "c4b17991",
   "metadata": {},
   "outputs": [],
   "source": [
    "driver = webdriver.Chrome(r'C:/Users/hp/Downloads/chromedriver_win32/chromedriver.exe')"
   ]
  },
  {
   "cell_type": "code",
   "execution_count": 4,
   "id": "7d437d1b",
   "metadata": {},
   "outputs": [],
   "source": [
    "driver = webdriver.Chrome('chromedriver.exe')"
   ]
  },
  {
   "cell_type": "code",
   "execution_count": 5,
   "id": "4572d37d",
   "metadata": {},
   "outputs": [],
   "source": [
    "url = 'https://www.naukri.com/'\n",
    "driver.get(url)"
   ]
  },
  {
   "cell_type": "code",
   "execution_count": 6,
   "id": "74797465",
   "metadata": {},
   "outputs": [
    {
     "data": {
      "text/plain": [
       "<selenium.webdriver.remote.webelement.WebElement (session=\"e16c9ac44594cc6492dafb042b967e6b\", element=\"f58d6c67-f80a-4d3f-85a1-fc01eb8c486b\")>"
      ]
     },
     "execution_count": 6,
     "metadata": {},
     "output_type": "execute_result"
    }
   ],
   "source": [
    "search_job = driver.find_element_by_class_name(\"suggestor-input\")\n",
    "search_job"
   ]
  },
  {
   "cell_type": "code",
   "execution_count": 9,
   "id": "9b0bc8ff",
   "metadata": {},
   "outputs": [],
   "source": [
    "search_job.send_keys(\"Data Analyst\")"
   ]
  },
  {
   "cell_type": "code",
   "execution_count": 10,
   "id": "de4f199d",
   "metadata": {},
   "outputs": [
    {
     "data": {
      "text/plain": [
       "<selenium.webdriver.remote.webelement.WebElement (session=\"e16c9ac44594cc6492dafb042b967e6b\", element=\"fab8d467-8acf-4c6d-9696-d75dcdc649cd\")>"
      ]
     },
     "execution_count": 10,
     "metadata": {},
     "output_type": "execute_result"
    }
   ],
   "source": [
    "search_locn = driver.find_element_by_xpath('/html/body/div/div[2]/div[3]/div/div/div[3]/div/div/div/input')\n",
    "search_locn"
   ]
  },
  {
   "cell_type": "code",
   "execution_count": 11,
   "id": "6f122ea0",
   "metadata": {},
   "outputs": [],
   "source": [
    "search_locn.send_keys(\"Bangalore\")"
   ]
  },
  {
   "cell_type": "code",
   "execution_count": 12,
   "id": "b67277ed",
   "metadata": {},
   "outputs": [
    {
     "data": {
      "text/plain": [
       "<selenium.webdriver.remote.webelement.WebElement (session=\"e16c9ac44594cc6492dafb042b967e6b\", element=\"6da0a263-73ab-4db3-b79c-99ed05b10765\")>"
      ]
     },
     "execution_count": 12,
     "metadata": {},
     "output_type": "execute_result"
    }
   ],
   "source": [
    "search_btn = driver.find_element_by_xpath('/html/body/div/div[2]/div[3]/div/div/div[6]')\n",
    "search_btn"
   ]
  },
  {
   "cell_type": "code",
   "execution_count": 13,
   "id": "1a09ac57",
   "metadata": {},
   "outputs": [],
   "source": [
    "search_btn.click()"
   ]
  },
  {
   "cell_type": "code",
   "execution_count": 17,
   "id": "184115d7",
   "metadata": {},
   "outputs": [
    {
     "data": {
      "text/plain": [
       "[<selenium.webdriver.remote.webelement.WebElement (session=\"e16c9ac44594cc6492dafb042b967e6b\", element=\"ecca0e25-5eb1-4cd2-9998-9c69dc495eb1\")>,\n",
       " <selenium.webdriver.remote.webelement.WebElement (session=\"e16c9ac44594cc6492dafb042b967e6b\", element=\"10a82c75-b0bc-4bc1-9ce9-2abdb7bb25cd\")>,\n",
       " <selenium.webdriver.remote.webelement.WebElement (session=\"e16c9ac44594cc6492dafb042b967e6b\", element=\"e2015c56-e1a5-48a8-9999-c8c2a4eab123\")>,\n",
       " <selenium.webdriver.remote.webelement.WebElement (session=\"e16c9ac44594cc6492dafb042b967e6b\", element=\"4dd30d43-a030-4d29-b34f-ae5934328aaf\")>,\n",
       " <selenium.webdriver.remote.webelement.WebElement (session=\"e16c9ac44594cc6492dafb042b967e6b\", element=\"1636b3c8-2ec4-438e-98c1-7e3575156a63\")>,\n",
       " <selenium.webdriver.remote.webelement.WebElement (session=\"e16c9ac44594cc6492dafb042b967e6b\", element=\"dd598ca3-29fa-482f-b109-1e94df65b724\")>,\n",
       " <selenium.webdriver.remote.webelement.WebElement (session=\"e16c9ac44594cc6492dafb042b967e6b\", element=\"58c5dbcb-60b7-462e-8479-36949c676cf4\")>,\n",
       " <selenium.webdriver.remote.webelement.WebElement (session=\"e16c9ac44594cc6492dafb042b967e6b\", element=\"8c62ce6c-4b5b-463a-a1cf-f28fe0569b8d\")>,\n",
       " <selenium.webdriver.remote.webelement.WebElement (session=\"e16c9ac44594cc6492dafb042b967e6b\", element=\"cfba4f38-c7c2-42f8-a008-616abe87ffb1\")>,\n",
       " <selenium.webdriver.remote.webelement.WebElement (session=\"e16c9ac44594cc6492dafb042b967e6b\", element=\"14b96b0e-bda5-4823-8abe-b7199f0c99c5\")>]"
      ]
     },
     "execution_count": 17,
     "metadata": {},
     "output_type": "execute_result"
    }
   ],
   "source": [
    "title_tags = driver.find_elements_by_xpath('//a[@class=\"title fw500 ellipsis\"]')\n",
    "len(title_tags)\n",
    "title_tags[0:10]"
   ]
  },
  {
   "cell_type": "code",
   "execution_count": 21,
   "id": "5d754374",
   "metadata": {},
   "outputs": [
    {
     "data": {
      "text/plain": [
       "['Hiring For Data Analyst I(SQL & Python)',\n",
       " 'Senior Data Analyst II',\n",
       " 'Senior Data Analyst',\n",
       " 'Senior Data Analyst II',\n",
       " 'Senior Data Analyst II',\n",
       " 'Senior Data Analyst - Ads & Promotion Platform (APP)',\n",
       " 'Hiring Data analyst with Pharma Background across India',\n",
       " 'Data Coordinator | Data Analyst | MS Excel | Typing | Bangalore',\n",
       " 'Lead Data Analyst - Flipkart Data science group',\n",
       " 'Data Analyst']"
      ]
     },
     "execution_count": 21,
     "metadata": {},
     "output_type": "execute_result"
    }
   ],
   "source": [
    "job_titles = []\n",
    "for i in title_tags:\n",
    "    job_titles.append(i.text)\n",
    "len(job_titles)\n",
    "job_titles[0:10]"
   ]
  },
  {
   "cell_type": "code",
   "execution_count": 22,
   "id": "5ceaf54a",
   "metadata": {},
   "outputs": [
    {
     "data": {
      "text/plain": [
       "[<selenium.webdriver.remote.webelement.WebElement (session=\"e16c9ac44594cc6492dafb042b967e6b\", element=\"b4596740-b650-4ce6-9faa-2fb14efd7beb\")>,\n",
       " <selenium.webdriver.remote.webelement.WebElement (session=\"e16c9ac44594cc6492dafb042b967e6b\", element=\"73419369-119c-4ba0-b8f8-2a6e25369744\")>,\n",
       " <selenium.webdriver.remote.webelement.WebElement (session=\"e16c9ac44594cc6492dafb042b967e6b\", element=\"bb169f73-de5e-46b1-be5b-d318eb14ea59\")>,\n",
       " <selenium.webdriver.remote.webelement.WebElement (session=\"e16c9ac44594cc6492dafb042b967e6b\", element=\"c2c5711e-eeba-46aa-bc06-0a58c89e6473\")>,\n",
       " <selenium.webdriver.remote.webelement.WebElement (session=\"e16c9ac44594cc6492dafb042b967e6b\", element=\"d7affdab-c420-4190-93c6-7a492ad74649\")>,\n",
       " <selenium.webdriver.remote.webelement.WebElement (session=\"e16c9ac44594cc6492dafb042b967e6b\", element=\"5f2a5850-d83c-43cd-a100-001a541791d1\")>,\n",
       " <selenium.webdriver.remote.webelement.WebElement (session=\"e16c9ac44594cc6492dafb042b967e6b\", element=\"1b2224a2-3e2a-44ec-8c48-9e076c0c3bfe\")>,\n",
       " <selenium.webdriver.remote.webelement.WebElement (session=\"e16c9ac44594cc6492dafb042b967e6b\", element=\"2104c80b-6305-4e43-8a3c-d7c40c8f0052\")>,\n",
       " <selenium.webdriver.remote.webelement.WebElement (session=\"e16c9ac44594cc6492dafb042b967e6b\", element=\"8d4bd70a-49ca-4952-88d1-0fba83b5b1b8\")>,\n",
       " <selenium.webdriver.remote.webelement.WebElement (session=\"e16c9ac44594cc6492dafb042b967e6b\", element=\"97f5ae8a-e8fa-489e-8808-41bf1c7e47d4\")>]"
      ]
     },
     "execution_count": 22,
     "metadata": {},
     "output_type": "execute_result"
    }
   ],
   "source": [
    "company_tags = driver.find_elements_by_xpath('//a[@class=\"subTitle ellipsis fleft\"]')\n",
    "company_tags[0:10]"
   ]
  },
  {
   "cell_type": "code",
   "execution_count": 23,
   "id": "090971a9",
   "metadata": {},
   "outputs": [
    {
     "data": {
      "text/plain": [
       "['Clario India Pvt Ltd',\n",
       " 'Flipkart',\n",
       " 'Flipkart',\n",
       " 'Flipkart',\n",
       " 'Flipkart',\n",
       " 'Gojek',\n",
       " 'HCL',\n",
       " 'Inspiration Manpower Consultancy Pvt. Ltd.',\n",
       " 'Flipkart',\n",
       " 'Flipkart']"
      ]
     },
     "execution_count": 23,
     "metadata": {},
     "output_type": "execute_result"
    }
   ],
   "source": [
    "company_names = []\n",
    "for i in company_tags:\n",
    "    company_names.append(i.text)\n",
    "company_names[0:10]"
   ]
  },
  {
   "cell_type": "code",
   "execution_count": 28,
   "id": "4c51e9b4",
   "metadata": {},
   "outputs": [
    {
     "data": {
      "text/plain": [
       "20"
      ]
     },
     "execution_count": 28,
     "metadata": {},
     "output_type": "execute_result"
    }
   ],
   "source": [
    "locn_tags = driver.find_elements_by_xpath('//li[@class=\"fleft grey-text br2 placeHolderLi location\"]')\n",
    "len(locn_tags)"
   ]
  },
  {
   "cell_type": "code",
   "execution_count": 29,
   "id": "5c5ca91c",
   "metadata": {},
   "outputs": [
    {
     "data": {
      "text/plain": [
       "['Bangalore/Bengaluru',\n",
       " 'Bangalore/Bengaluru',\n",
       " 'Bangalore/Bengaluru',\n",
       " 'Bangalore/Bengaluru',\n",
       " 'Bangalore/Bengaluru',\n",
       " 'Bangalore/Bengaluru',\n",
       " 'Hyderabad/Secunderabad, Chennai, Bangalore/Bengaluru\\n(WFH during Covid)',\n",
       " 'Bangalore/Bengaluru(Sadashiva Nagar)',\n",
       " 'Bangalore/Bengaluru',\n",
       " 'Bangalore/Bengaluru']"
      ]
     },
     "execution_count": 29,
     "metadata": {},
     "output_type": "execute_result"
    }
   ],
   "source": [
    "location = []\n",
    "for i in locn_tags:\n",
    "    location.append(i.text)\n",
    "location[0:10]"
   ]
  },
  {
   "cell_type": "code",
   "execution_count": 30,
   "id": "4edb425c",
   "metadata": {},
   "outputs": [
    {
     "data": {
      "text/plain": [
       "(20, 20, 20)"
      ]
     },
     "execution_count": 30,
     "metadata": {},
     "output_type": "execute_result"
    }
   ],
   "source": [
    "len(job_titles), len(company_names), len(location)"
   ]
  },
  {
   "cell_type": "code",
   "execution_count": 35,
   "id": "5ea3fccd",
   "metadata": {},
   "outputs": [
    {
     "data": {
      "text/html": [
       "<div>\n",
       "<style scoped>\n",
       "    .dataframe tbody tr th:only-of-type {\n",
       "        vertical-align: middle;\n",
       "    }\n",
       "\n",
       "    .dataframe tbody tr th {\n",
       "        vertical-align: top;\n",
       "    }\n",
       "\n",
       "    .dataframe thead th {\n",
       "        text-align: right;\n",
       "    }\n",
       "</style>\n",
       "<table border=\"1\" class=\"dataframe\">\n",
       "  <thead>\n",
       "    <tr style=\"text-align: right;\">\n",
       "      <th></th>\n",
       "      <th>Job Titles</th>\n",
       "      <th>Company</th>\n",
       "      <th>Location</th>\n",
       "    </tr>\n",
       "  </thead>\n",
       "  <tbody>\n",
       "    <tr>\n",
       "      <th>0</th>\n",
       "      <td>Hiring For Data Analyst I(SQL &amp; Python)</td>\n",
       "      <td>Clario India Pvt Ltd</td>\n",
       "      <td>Bangalore/Bengaluru</td>\n",
       "    </tr>\n",
       "    <tr>\n",
       "      <th>1</th>\n",
       "      <td>Senior Data Analyst II</td>\n",
       "      <td>Flipkart</td>\n",
       "      <td>Bangalore/Bengaluru</td>\n",
       "    </tr>\n",
       "    <tr>\n",
       "      <th>2</th>\n",
       "      <td>Senior Data Analyst</td>\n",
       "      <td>Flipkart</td>\n",
       "      <td>Bangalore/Bengaluru</td>\n",
       "    </tr>\n",
       "    <tr>\n",
       "      <th>3</th>\n",
       "      <td>Senior Data Analyst II</td>\n",
       "      <td>Flipkart</td>\n",
       "      <td>Bangalore/Bengaluru</td>\n",
       "    </tr>\n",
       "    <tr>\n",
       "      <th>4</th>\n",
       "      <td>Senior Data Analyst II</td>\n",
       "      <td>Flipkart</td>\n",
       "      <td>Bangalore/Bengaluru</td>\n",
       "    </tr>\n",
       "    <tr>\n",
       "      <th>5</th>\n",
       "      <td>Senior Data Analyst - Ads &amp; Promotion Platform...</td>\n",
       "      <td>Gojek</td>\n",
       "      <td>Bangalore/Bengaluru</td>\n",
       "    </tr>\n",
       "    <tr>\n",
       "      <th>6</th>\n",
       "      <td>Hiring Data analyst with Pharma Background acr...</td>\n",
       "      <td>HCL</td>\n",
       "      <td>Hyderabad/Secunderabad, Chennai, Bangalore/Ben...</td>\n",
       "    </tr>\n",
       "    <tr>\n",
       "      <th>7</th>\n",
       "      <td>Data Coordinator | Data Analyst | MS Excel | T...</td>\n",
       "      <td>Inspiration Manpower Consultancy Pvt. Ltd.</td>\n",
       "      <td>Bangalore/Bengaluru(Sadashiva Nagar)</td>\n",
       "    </tr>\n",
       "    <tr>\n",
       "      <th>8</th>\n",
       "      <td>Lead Data Analyst - Flipkart Data science group</td>\n",
       "      <td>Flipkart</td>\n",
       "      <td>Bangalore/Bengaluru</td>\n",
       "    </tr>\n",
       "    <tr>\n",
       "      <th>9</th>\n",
       "      <td>Data Analyst</td>\n",
       "      <td>Flipkart</td>\n",
       "      <td>Bangalore/Bengaluru</td>\n",
       "    </tr>\n",
       "    <tr>\n",
       "      <th>10</th>\n",
       "      <td>Data Analyst</td>\n",
       "      <td>Flipkart</td>\n",
       "      <td>Bangalore/Bengaluru</td>\n",
       "    </tr>\n",
       "    <tr>\n",
       "      <th>11</th>\n",
       "      <td>Data Analyst</td>\n",
       "      <td>Flipkart</td>\n",
       "      <td>Bangalore/Bengaluru</td>\n",
       "    </tr>\n",
       "    <tr>\n",
       "      <th>12</th>\n",
       "      <td>Consultant - Data Analyst</td>\n",
       "      <td>Flipkart</td>\n",
       "      <td>Bangalore/Bengaluru</td>\n",
       "    </tr>\n",
       "    <tr>\n",
       "      <th>13</th>\n",
       "      <td>software developer &amp; Testing / Business Analys...</td>\n",
       "      <td>SECRET TECHNOLOGIES INDIA VMS GROUP</td>\n",
       "      <td>Pune, Bangalore/Bengaluru(Shivaji Nagar), Mumb...</td>\n",
       "    </tr>\n",
       "    <tr>\n",
       "      <th>14</th>\n",
       "      <td>Staff Business Data Analyst - FDP</td>\n",
       "      <td>Intuit Inc.</td>\n",
       "      <td>Bangalore/Bengaluru</td>\n",
       "    </tr>\n",
       "    <tr>\n",
       "      <th>15</th>\n",
       "      <td>Data Analyst</td>\n",
       "      <td>Intel</td>\n",
       "      <td>Bangalore/Bengaluru</td>\n",
       "    </tr>\n",
       "    <tr>\n",
       "      <th>16</th>\n",
       "      <td>Data Analyst</td>\n",
       "      <td>Gojek</td>\n",
       "      <td>Bangalore/Bengaluru</td>\n",
       "    </tr>\n",
       "    <tr>\n",
       "      <th>17</th>\n",
       "      <td>Data Analyst - IIM/ISB/MDI/FMS/SP Jain</td>\n",
       "      <td>K12 Techno Services Pvt Ltd</td>\n",
       "      <td>Bangalore/Bengaluru</td>\n",
       "    </tr>\n",
       "    <tr>\n",
       "      <th>18</th>\n",
       "      <td>Senior Data Analyst</td>\n",
       "      <td>Capco</td>\n",
       "      <td>Bangalore/Bengaluru</td>\n",
       "    </tr>\n",
       "    <tr>\n",
       "      <th>19</th>\n",
       "      <td>Senior Data Analyst</td>\n",
       "      <td>Mobile Premier League</td>\n",
       "      <td>Bangalore/Bengaluru</td>\n",
       "    </tr>\n",
       "  </tbody>\n",
       "</table>\n",
       "</div>"
      ],
      "text/plain": [
       "                                           Job Titles  \\\n",
       "0             Hiring For Data Analyst I(SQL & Python)   \n",
       "1                              Senior Data Analyst II   \n",
       "2                                 Senior Data Analyst   \n",
       "3                              Senior Data Analyst II   \n",
       "4                              Senior Data Analyst II   \n",
       "5   Senior Data Analyst - Ads & Promotion Platform...   \n",
       "6   Hiring Data analyst with Pharma Background acr...   \n",
       "7   Data Coordinator | Data Analyst | MS Excel | T...   \n",
       "8     Lead Data Analyst - Flipkart Data science group   \n",
       "9                                        Data Analyst   \n",
       "10                                       Data Analyst   \n",
       "11                                       Data Analyst   \n",
       "12                          Consultant - Data Analyst   \n",
       "13  software developer & Testing / Business Analys...   \n",
       "14                  Staff Business Data Analyst - FDP   \n",
       "15                                       Data Analyst   \n",
       "16                                       Data Analyst   \n",
       "17             Data Analyst - IIM/ISB/MDI/FMS/SP Jain   \n",
       "18                                Senior Data Analyst   \n",
       "19                                Senior Data Analyst   \n",
       "\n",
       "                                       Company  \\\n",
       "0                         Clario India Pvt Ltd   \n",
       "1                                     Flipkart   \n",
       "2                                     Flipkart   \n",
       "3                                     Flipkart   \n",
       "4                                     Flipkart   \n",
       "5                                        Gojek   \n",
       "6                                          HCL   \n",
       "7   Inspiration Manpower Consultancy Pvt. Ltd.   \n",
       "8                                     Flipkart   \n",
       "9                                     Flipkart   \n",
       "10                                    Flipkart   \n",
       "11                                    Flipkart   \n",
       "12                                    Flipkart   \n",
       "13         SECRET TECHNOLOGIES INDIA VMS GROUP   \n",
       "14                                 Intuit Inc.   \n",
       "15                                       Intel   \n",
       "16                                       Gojek   \n",
       "17                 K12 Techno Services Pvt Ltd   \n",
       "18                                       Capco   \n",
       "19                       Mobile Premier League   \n",
       "\n",
       "                                             Location  \n",
       "0                                 Bangalore/Bengaluru  \n",
       "1                                 Bangalore/Bengaluru  \n",
       "2                                 Bangalore/Bengaluru  \n",
       "3                                 Bangalore/Bengaluru  \n",
       "4                                 Bangalore/Bengaluru  \n",
       "5                                 Bangalore/Bengaluru  \n",
       "6   Hyderabad/Secunderabad, Chennai, Bangalore/Ben...  \n",
       "7                Bangalore/Bengaluru(Sadashiva Nagar)  \n",
       "8                                 Bangalore/Bengaluru  \n",
       "9                                 Bangalore/Bengaluru  \n",
       "10                                Bangalore/Bengaluru  \n",
       "11                                Bangalore/Bengaluru  \n",
       "12                                Bangalore/Bengaluru  \n",
       "13  Pune, Bangalore/Bengaluru(Shivaji Nagar), Mumb...  \n",
       "14                                Bangalore/Bengaluru  \n",
       "15                                Bangalore/Bengaluru  \n",
       "16                                Bangalore/Bengaluru  \n",
       "17                                Bangalore/Bengaluru  \n",
       "18                                Bangalore/Bengaluru  \n",
       "19                                Bangalore/Bengaluru  "
      ]
     },
     "execution_count": 35,
     "metadata": {},
     "output_type": "execute_result"
    }
   ],
   "source": [
    "jobs = pd.DataFrame()\n",
    "jobs['Job Titles'] = job_titles\n",
    "jobs['Company'] = company_names\n",
    "jobs['Location'] = location\n",
    "jobs"
   ]
  },
  {
   "cell_type": "code",
   "execution_count": 52,
   "id": "2ce20f40",
   "metadata": {},
   "outputs": [],
   "source": [
    "driver = webdriver.Chrome(r'C:/Users/hp/Downloads/chromedriver_win32/chromedriver.exe')"
   ]
  },
  {
   "cell_type": "code",
   "execution_count": 53,
   "id": "56366361",
   "metadata": {},
   "outputs": [],
   "source": [
    "driver = webdriver.Chrome('chromedriver.exe')"
   ]
  },
  {
   "cell_type": "code",
   "execution_count": 54,
   "id": "358e2bc2",
   "metadata": {},
   "outputs": [],
   "source": [
    "url = 'https://www.naukri.com/'\n",
    "driver.get(url)"
   ]
  },
  {
   "cell_type": "code",
   "execution_count": 55,
   "id": "4a294e39",
   "metadata": {},
   "outputs": [
    {
     "data": {
      "text/plain": [
       "<selenium.webdriver.remote.webelement.WebElement (session=\"1412925aa9ad9dd230e68cde1b0d02b9\", element=\"03a6c9dc-96fd-409e-aad1-166007375283\")>"
      ]
     },
     "execution_count": 55,
     "metadata": {},
     "output_type": "execute_result"
    }
   ],
   "source": [
    "search_job = driver.find_element_by_class_name(\"suggestor-input\")\n",
    "search_job"
   ]
  },
  {
   "cell_type": "code",
   "execution_count": 56,
   "id": "54e61a82",
   "metadata": {},
   "outputs": [],
   "source": [
    "search_job.send_keys(\"Data Scientist\")"
   ]
  },
  {
   "cell_type": "code",
   "execution_count": 57,
   "id": "35a81321",
   "metadata": {},
   "outputs": [
    {
     "data": {
      "text/plain": [
       "<selenium.webdriver.remote.webelement.WebElement (session=\"1412925aa9ad9dd230e68cde1b0d02b9\", element=\"3b46a0ec-5a89-4c01-ad3f-e797c9f4d46e\")>"
      ]
     },
     "execution_count": 57,
     "metadata": {},
     "output_type": "execute_result"
    }
   ],
   "source": [
    "search_locn = driver.find_element_by_xpath('/html/body/div/div[2]/div[3]/div/div/div[3]/div/div/div/input')\n",
    "search_locn"
   ]
  },
  {
   "cell_type": "code",
   "execution_count": 58,
   "id": "48af8fb4",
   "metadata": {},
   "outputs": [],
   "source": [
    "search_locn.send_keys(\"Bangalore\")"
   ]
  },
  {
   "cell_type": "code",
   "execution_count": 59,
   "id": "34e35a07",
   "metadata": {},
   "outputs": [
    {
     "data": {
      "text/plain": [
       "<selenium.webdriver.remote.webelement.WebElement (session=\"1412925aa9ad9dd230e68cde1b0d02b9\", element=\"c5b648e1-7228-4218-9776-1c43c8c48202\")>"
      ]
     },
     "execution_count": 59,
     "metadata": {},
     "output_type": "execute_result"
    }
   ],
   "source": [
    "search_btn = driver.find_element_by_xpath('/html/body/div/div[2]/div[3]/div/div/div[6]')\n",
    "search_btn"
   ]
  },
  {
   "cell_type": "code",
   "execution_count": 60,
   "id": "2b384800",
   "metadata": {},
   "outputs": [],
   "source": [
    "search_btn.click()"
   ]
  },
  {
   "cell_type": "code",
   "execution_count": 61,
   "id": "68293908",
   "metadata": {},
   "outputs": [
    {
     "data": {
      "text/plain": [
       "[<selenium.webdriver.remote.webelement.WebElement (session=\"1412925aa9ad9dd230e68cde1b0d02b9\", element=\"9629e7ca-131c-4a6d-bb30-f97d351d97a7\")>,\n",
       " <selenium.webdriver.remote.webelement.WebElement (session=\"1412925aa9ad9dd230e68cde1b0d02b9\", element=\"ef80124a-147a-4336-90af-854df7f8acee\")>,\n",
       " <selenium.webdriver.remote.webelement.WebElement (session=\"1412925aa9ad9dd230e68cde1b0d02b9\", element=\"e3d6d40d-4ac6-4090-add5-0edcd18eeb12\")>,\n",
       " <selenium.webdriver.remote.webelement.WebElement (session=\"1412925aa9ad9dd230e68cde1b0d02b9\", element=\"ce9ac169-574d-4c39-af60-6c3b6d7092c1\")>,\n",
       " <selenium.webdriver.remote.webelement.WebElement (session=\"1412925aa9ad9dd230e68cde1b0d02b9\", element=\"16466c5a-199d-46a0-9d13-24deb910c92e\")>,\n",
       " <selenium.webdriver.remote.webelement.WebElement (session=\"1412925aa9ad9dd230e68cde1b0d02b9\", element=\"3b66734c-c20c-412c-8387-ba4021c07b41\")>,\n",
       " <selenium.webdriver.remote.webelement.WebElement (session=\"1412925aa9ad9dd230e68cde1b0d02b9\", element=\"4dc71340-0b1a-421a-bd29-aa317b387546\")>,\n",
       " <selenium.webdriver.remote.webelement.WebElement (session=\"1412925aa9ad9dd230e68cde1b0d02b9\", element=\"97f0a4ed-801e-4a3c-a337-5da09976c58a\")>,\n",
       " <selenium.webdriver.remote.webelement.WebElement (session=\"1412925aa9ad9dd230e68cde1b0d02b9\", element=\"d28933a2-648a-48d1-b6ce-7d3b868f4043\")>,\n",
       " <selenium.webdriver.remote.webelement.WebElement (session=\"1412925aa9ad9dd230e68cde1b0d02b9\", element=\"35cebde7-bd7f-4a86-a880-0d2d7f095b58\")>]"
      ]
     },
     "execution_count": 61,
     "metadata": {},
     "output_type": "execute_result"
    }
   ],
   "source": [
    "title_tags = driver.find_elements_by_xpath('//a[@class=\"title fw500 ellipsis\"]')\n",
    "len(title_tags)\n",
    "title_tags[0:10]"
   ]
  },
  {
   "cell_type": "code",
   "execution_count": 62,
   "id": "08548383",
   "metadata": {},
   "outputs": [
    {
     "data": {
      "text/plain": [
       "['Sr . Data Scientist',\n",
       " 'Need Data scientists and data engineers - WFH- less than 30days notice',\n",
       " 'Principal Data Scientist',\n",
       " 'Data Scientist',\n",
       " 'Data Scientist',\n",
       " 'Senior Data Scientist Payments',\n",
       " 'Computer Vision Python Data Scientist',\n",
       " 'Data Scientist',\n",
       " 'Data Scientist',\n",
       " 'Lead Data Scientist']"
      ]
     },
     "execution_count": 62,
     "metadata": {},
     "output_type": "execute_result"
    }
   ],
   "source": [
    "job_titles = []\n",
    "for i in title_tags:\n",
    "    job_titles.append(i.text)\n",
    "len(job_titles)\n",
    "job_titles[0:10]"
   ]
  },
  {
   "cell_type": "code",
   "execution_count": 63,
   "id": "94368a53",
   "metadata": {},
   "outputs": [
    {
     "data": {
      "text/plain": [
       "[<selenium.webdriver.remote.webelement.WebElement (session=\"1412925aa9ad9dd230e68cde1b0d02b9\", element=\"1a4324ab-9ad6-449d-a0e1-eded6aad675a\")>,\n",
       " <selenium.webdriver.remote.webelement.WebElement (session=\"1412925aa9ad9dd230e68cde1b0d02b9\", element=\"cea94b2b-5147-4be1-986a-eed64ef27764\")>,\n",
       " <selenium.webdriver.remote.webelement.WebElement (session=\"1412925aa9ad9dd230e68cde1b0d02b9\", element=\"05aa6d76-ffe5-4137-b10b-7765f838f5ad\")>,\n",
       " <selenium.webdriver.remote.webelement.WebElement (session=\"1412925aa9ad9dd230e68cde1b0d02b9\", element=\"d0da3749-8664-4d16-8214-fad93b2062bc\")>,\n",
       " <selenium.webdriver.remote.webelement.WebElement (session=\"1412925aa9ad9dd230e68cde1b0d02b9\", element=\"2d40e299-e474-4090-96a1-9f7222d1ba9c\")>,\n",
       " <selenium.webdriver.remote.webelement.WebElement (session=\"1412925aa9ad9dd230e68cde1b0d02b9\", element=\"2eb4cfeb-a365-4a64-a810-9e06ea5c2c30\")>,\n",
       " <selenium.webdriver.remote.webelement.WebElement (session=\"1412925aa9ad9dd230e68cde1b0d02b9\", element=\"f5ed321e-3f51-4e98-ad39-c53332667a6c\")>,\n",
       " <selenium.webdriver.remote.webelement.WebElement (session=\"1412925aa9ad9dd230e68cde1b0d02b9\", element=\"112b87c7-8e19-4321-82d9-93ae38ece312\")>,\n",
       " <selenium.webdriver.remote.webelement.WebElement (session=\"1412925aa9ad9dd230e68cde1b0d02b9\", element=\"ceb8b002-e54d-4b1b-9822-ac33bb4f0ec1\")>,\n",
       " <selenium.webdriver.remote.webelement.WebElement (session=\"1412925aa9ad9dd230e68cde1b0d02b9\", element=\"77c6c8b6-6310-49a6-bc9f-b1e4a796dd96\")>]"
      ]
     },
     "execution_count": 63,
     "metadata": {},
     "output_type": "execute_result"
    }
   ],
   "source": [
    "company_tags = driver.find_elements_by_xpath('//a[@class=\"subTitle ellipsis fleft\"]')\n",
    "company_tags[0:10]"
   ]
  },
  {
   "cell_type": "code",
   "execution_count": 64,
   "id": "340bbbfe",
   "metadata": {},
   "outputs": [
    {
     "data": {
      "text/plain": [
       "['Visa',\n",
       " 'Covalense Technologies Private Limited',\n",
       " 'Mobile Premier League',\n",
       " 'HDFC Bank',\n",
       " 'Shell',\n",
       " 'AirSeva',\n",
       " 'OceanOfWeb',\n",
       " 'Minions Ventures',\n",
       " 'Gojek',\n",
       " 'Kyndryl']"
      ]
     },
     "execution_count": 64,
     "metadata": {},
     "output_type": "execute_result"
    }
   ],
   "source": [
    "company_names = []\n",
    "for i in company_tags:\n",
    "    company_names.append(i.text)\n",
    "company_names[0:10]"
   ]
  },
  {
   "cell_type": "code",
   "execution_count": 65,
   "id": "a1756e35",
   "metadata": {},
   "outputs": [
    {
     "data": {
      "text/plain": [
       "20"
      ]
     },
     "execution_count": 65,
     "metadata": {},
     "output_type": "execute_result"
    }
   ],
   "source": [
    "locn_tags = driver.find_elements_by_xpath('//li[@class=\"fleft grey-text br2 placeHolderLi location\"]')\n",
    "len(locn_tags)"
   ]
  },
  {
   "cell_type": "code",
   "execution_count": 66,
   "id": "e812d23f",
   "metadata": {},
   "outputs": [
    {
     "data": {
      "text/plain": [
       "['Bangalore/Bengaluru',\n",
       " 'Hyderabad/Secunderabad, Bangalore/Bengaluru, Mumbai (All Areas)\\n(WFH during Covid)',\n",
       " 'Bangalore/Bengaluru',\n",
       " 'Pune, Gurgaon/Gurugram, Chennai, Bangalore/Bengaluru, Delhi / NCR, Mumbai (All Areas)',\n",
       " 'Bangalore/Bengaluru',\n",
       " 'Bangalore/Bengaluru',\n",
       " 'Mumbai, Hyderabad/Secunderabad, Pune, Chennai, Bangalore/Bengaluru',\n",
       " 'Bangalore/Bengaluru',\n",
       " 'Bangalore/Bengaluru',\n",
       " 'Bangalore/Bengaluru']"
      ]
     },
     "execution_count": 66,
     "metadata": {},
     "output_type": "execute_result"
    }
   ],
   "source": [
    "location = []\n",
    "for i in locn_tags:\n",
    "    location.append(i.text)\n",
    "location[0:10]"
   ]
  },
  {
   "cell_type": "code",
   "execution_count": 67,
   "id": "1ae54052",
   "metadata": {},
   "outputs": [
    {
     "data": {
      "text/plain": [
       "(20, 20, 20)"
      ]
     },
     "execution_count": 67,
     "metadata": {},
     "output_type": "execute_result"
    }
   ],
   "source": [
    "len(job_titles), len(company_names), len(location)"
   ]
  },
  {
   "cell_type": "code",
   "execution_count": 68,
   "id": "c66e4a02",
   "metadata": {},
   "outputs": [
    {
     "data": {
      "text/html": [
       "<div>\n",
       "<style scoped>\n",
       "    .dataframe tbody tr th:only-of-type {\n",
       "        vertical-align: middle;\n",
       "    }\n",
       "\n",
       "    .dataframe tbody tr th {\n",
       "        vertical-align: top;\n",
       "    }\n",
       "\n",
       "    .dataframe thead th {\n",
       "        text-align: right;\n",
       "    }\n",
       "</style>\n",
       "<table border=\"1\" class=\"dataframe\">\n",
       "  <thead>\n",
       "    <tr style=\"text-align: right;\">\n",
       "      <th></th>\n",
       "      <th>Job Titles</th>\n",
       "      <th>Company</th>\n",
       "      <th>Location</th>\n",
       "    </tr>\n",
       "  </thead>\n",
       "  <tbody>\n",
       "    <tr>\n",
       "      <th>0</th>\n",
       "      <td>Sr . Data Scientist</td>\n",
       "      <td>Visa</td>\n",
       "      <td>Bangalore/Bengaluru</td>\n",
       "    </tr>\n",
       "    <tr>\n",
       "      <th>1</th>\n",
       "      <td>Need Data scientists and data engineers - WFH-...</td>\n",
       "      <td>Covalense Technologies Private Limited</td>\n",
       "      <td>Hyderabad/Secunderabad, Bangalore/Bengaluru, M...</td>\n",
       "    </tr>\n",
       "    <tr>\n",
       "      <th>2</th>\n",
       "      <td>Principal Data Scientist</td>\n",
       "      <td>Mobile Premier League</td>\n",
       "      <td>Bangalore/Bengaluru</td>\n",
       "    </tr>\n",
       "    <tr>\n",
       "      <th>3</th>\n",
       "      <td>Data Scientist</td>\n",
       "      <td>HDFC Bank</td>\n",
       "      <td>Pune, Gurgaon/Gurugram, Chennai, Bangalore/Ben...</td>\n",
       "    </tr>\n",
       "    <tr>\n",
       "      <th>4</th>\n",
       "      <td>Data Scientist</td>\n",
       "      <td>Shell</td>\n",
       "      <td>Bangalore/Bengaluru</td>\n",
       "    </tr>\n",
       "    <tr>\n",
       "      <th>5</th>\n",
       "      <td>Senior Data Scientist Payments</td>\n",
       "      <td>AirSeva</td>\n",
       "      <td>Bangalore/Bengaluru</td>\n",
       "    </tr>\n",
       "    <tr>\n",
       "      <th>6</th>\n",
       "      <td>Computer Vision Python Data Scientist</td>\n",
       "      <td>OceanOfWeb</td>\n",
       "      <td>Mumbai, Hyderabad/Secunderabad, Pune, Chennai,...</td>\n",
       "    </tr>\n",
       "    <tr>\n",
       "      <th>7</th>\n",
       "      <td>Data Scientist</td>\n",
       "      <td>Minions Ventures</td>\n",
       "      <td>Bangalore/Bengaluru</td>\n",
       "    </tr>\n",
       "    <tr>\n",
       "      <th>8</th>\n",
       "      <td>Data Scientist</td>\n",
       "      <td>Gojek</td>\n",
       "      <td>Bangalore/Bengaluru</td>\n",
       "    </tr>\n",
       "    <tr>\n",
       "      <th>9</th>\n",
       "      <td>Lead Data Scientist</td>\n",
       "      <td>Kyndryl</td>\n",
       "      <td>Bangalore/Bengaluru</td>\n",
       "    </tr>\n",
       "    <tr>\n",
       "      <th>10</th>\n",
       "      <td>Senior/ Lead Data Scientist</td>\n",
       "      <td>AmoliTalents</td>\n",
       "      <td>Bangalore/Bengaluru</td>\n",
       "    </tr>\n",
       "    <tr>\n",
       "      <th>11</th>\n",
       "      <td>Data Scientist / Analyst</td>\n",
       "      <td>open data fabric</td>\n",
       "      <td>Bangalore/Bengaluru</td>\n",
       "    </tr>\n",
       "    <tr>\n",
       "      <th>12</th>\n",
       "      <td>Forecasting Analyst/ Data Scientist (US Client)</td>\n",
       "      <td>Concentrix</td>\n",
       "      <td>Gurgaon/Gurugram, Bangalore/Bengaluru\\n(WFH du...</td>\n",
       "    </tr>\n",
       "    <tr>\n",
       "      <th>13</th>\n",
       "      <td>Hiring Data Scientist - Analytics</td>\n",
       "      <td>Firstsource Solutions Limited</td>\n",
       "      <td>Bangalore/Bengaluru, Mumbai (All Areas)</td>\n",
       "    </tr>\n",
       "    <tr>\n",
       "      <th>14</th>\n",
       "      <td>Data Scientist</td>\n",
       "      <td>Korea Trade Center</td>\n",
       "      <td>New Delhi, Gurgaon/Gurugram, Bangalore/Bengalu...</td>\n",
       "    </tr>\n",
       "    <tr>\n",
       "      <th>15</th>\n",
       "      <td>Data Scientist</td>\n",
       "      <td>Microsoft</td>\n",
       "      <td>Bangalore/Bengaluru</td>\n",
       "    </tr>\n",
       "    <tr>\n",
       "      <th>16</th>\n",
       "      <td>Excellent Opportunity For Freshers For AI/ML, ...</td>\n",
       "      <td>NTT Data</td>\n",
       "      <td>Noida, Kolkata, Hyderabad/Secunderabad, Pune, ...</td>\n",
       "    </tr>\n",
       "    <tr>\n",
       "      <th>17</th>\n",
       "      <td>Data Scientist</td>\n",
       "      <td>Cytiva</td>\n",
       "      <td>Bangalore/Bengaluru</td>\n",
       "    </tr>\n",
       "    <tr>\n",
       "      <th>18</th>\n",
       "      <td>Data Scientist</td>\n",
       "      <td>Amazon</td>\n",
       "      <td>Hyderabad/Secunderabad, Pune, Bangalore/Bengaluru</td>\n",
       "    </tr>\n",
       "    <tr>\n",
       "      <th>19</th>\n",
       "      <td>Data Scientist</td>\n",
       "      <td>Hewlett-Packard (HP)</td>\n",
       "      <td>Bangalore/Bengaluru</td>\n",
       "    </tr>\n",
       "  </tbody>\n",
       "</table>\n",
       "</div>"
      ],
      "text/plain": [
       "                                           Job Titles  \\\n",
       "0                                 Sr . Data Scientist   \n",
       "1   Need Data scientists and data engineers - WFH-...   \n",
       "2                            Principal Data Scientist   \n",
       "3                                      Data Scientist   \n",
       "4                                      Data Scientist   \n",
       "5                      Senior Data Scientist Payments   \n",
       "6               Computer Vision Python Data Scientist   \n",
       "7                                      Data Scientist   \n",
       "8                                      Data Scientist   \n",
       "9                                 Lead Data Scientist   \n",
       "10                        Senior/ Lead Data Scientist   \n",
       "11                           Data Scientist / Analyst   \n",
       "12    Forecasting Analyst/ Data Scientist (US Client)   \n",
       "13                  Hiring Data Scientist - Analytics   \n",
       "14                                     Data Scientist   \n",
       "15                                     Data Scientist   \n",
       "16  Excellent Opportunity For Freshers For AI/ML, ...   \n",
       "17                                     Data Scientist   \n",
       "18                                     Data Scientist   \n",
       "19                                     Data Scientist   \n",
       "\n",
       "                                   Company  \\\n",
       "0                                     Visa   \n",
       "1   Covalense Technologies Private Limited   \n",
       "2                    Mobile Premier League   \n",
       "3                                HDFC Bank   \n",
       "4                                    Shell   \n",
       "5                                  AirSeva   \n",
       "6                               OceanOfWeb   \n",
       "7                         Minions Ventures   \n",
       "8                                    Gojek   \n",
       "9                                  Kyndryl   \n",
       "10                            AmoliTalents   \n",
       "11                        open data fabric   \n",
       "12                              Concentrix   \n",
       "13           Firstsource Solutions Limited   \n",
       "14                      Korea Trade Center   \n",
       "15                               Microsoft   \n",
       "16                                NTT Data   \n",
       "17                                  Cytiva   \n",
       "18                                  Amazon   \n",
       "19                    Hewlett-Packard (HP)   \n",
       "\n",
       "                                             Location  \n",
       "0                                 Bangalore/Bengaluru  \n",
       "1   Hyderabad/Secunderabad, Bangalore/Bengaluru, M...  \n",
       "2                                 Bangalore/Bengaluru  \n",
       "3   Pune, Gurgaon/Gurugram, Chennai, Bangalore/Ben...  \n",
       "4                                 Bangalore/Bengaluru  \n",
       "5                                 Bangalore/Bengaluru  \n",
       "6   Mumbai, Hyderabad/Secunderabad, Pune, Chennai,...  \n",
       "7                                 Bangalore/Bengaluru  \n",
       "8                                 Bangalore/Bengaluru  \n",
       "9                                 Bangalore/Bengaluru  \n",
       "10                                Bangalore/Bengaluru  \n",
       "11                                Bangalore/Bengaluru  \n",
       "12  Gurgaon/Gurugram, Bangalore/Bengaluru\\n(WFH du...  \n",
       "13            Bangalore/Bengaluru, Mumbai (All Areas)  \n",
       "14  New Delhi, Gurgaon/Gurugram, Bangalore/Bengalu...  \n",
       "15                                Bangalore/Bengaluru  \n",
       "16  Noida, Kolkata, Hyderabad/Secunderabad, Pune, ...  \n",
       "17                                Bangalore/Bengaluru  \n",
       "18  Hyderabad/Secunderabad, Pune, Bangalore/Bengaluru  \n",
       "19                                Bangalore/Bengaluru  "
      ]
     },
     "execution_count": 68,
     "metadata": {},
     "output_type": "execute_result"
    }
   ],
   "source": [
    "jobs = pd.DataFrame()\n",
    "jobs['Job Titles'] = job_titles\n",
    "jobs['Company'] = company_names\n",
    "jobs['Location'] = location\n",
    "jobs"
   ]
  },
  {
   "cell_type": "code",
   "execution_count": 69,
   "id": "d0efeedd",
   "metadata": {},
   "outputs": [],
   "source": [
    "driver = webdriver.Chrome(r'C:/Users/hp/Downloads/chromedriver_win32/chromedriver.exe')"
   ]
  },
  {
   "cell_type": "code",
   "execution_count": 70,
   "id": "11d3b9b8",
   "metadata": {},
   "outputs": [],
   "source": [
    "driver = webdriver.Chrome('chromedriver.exe')"
   ]
  },
  {
   "cell_type": "code",
   "execution_count": 71,
   "id": "4a186b72",
   "metadata": {},
   "outputs": [],
   "source": [
    "url = 'https://www.naukri.com/'\n",
    "driver.get(url)"
   ]
  },
  {
   "cell_type": "code",
   "execution_count": 72,
   "id": "7b2670ab",
   "metadata": {},
   "outputs": [
    {
     "data": {
      "text/plain": [
       "<selenium.webdriver.remote.webelement.WebElement (session=\"3f65652eac517683f7b65798d5f00acb\", element=\"c7ddb551-064b-4397-a2ad-7e7a8bb7c724\")>"
      ]
     },
     "execution_count": 72,
     "metadata": {},
     "output_type": "execute_result"
    }
   ],
   "source": [
    "search_job = driver.find_element_by_class_name(\"suggestor-input\")\n",
    "search_job"
   ]
  },
  {
   "cell_type": "code",
   "execution_count": 73,
   "id": "fdb4402f",
   "metadata": {},
   "outputs": [],
   "source": [
    "search_job.send_keys(\"Data Scientist\")"
   ]
  },
  {
   "cell_type": "code",
   "execution_count": 74,
   "id": "f4acd6dc",
   "metadata": {},
   "outputs": [
    {
     "data": {
      "text/plain": [
       "<selenium.webdriver.remote.webelement.WebElement (session=\"3f65652eac517683f7b65798d5f00acb\", element=\"97307475-51ae-4cc8-9c6e-bb334076438a\")>"
      ]
     },
     "execution_count": 74,
     "metadata": {},
     "output_type": "execute_result"
    }
   ],
   "source": [
    "search_locn = driver.find_element_by_xpath('/html/body/div/div[2]/div[3]/div/div/div[3]/div/div/div/input')\n",
    "search_locn"
   ]
  },
  {
   "cell_type": "code",
   "execution_count": 75,
   "id": "ecdc657c",
   "metadata": {},
   "outputs": [],
   "source": [
    "search_locn.send_keys(\"Delhi/NCR\")"
   ]
  },
  {
   "cell_type": "code",
   "execution_count": 76,
   "id": "4d1789f9",
   "metadata": {},
   "outputs": [
    {
     "data": {
      "text/plain": [
       "<selenium.webdriver.remote.webelement.WebElement (session=\"3f65652eac517683f7b65798d5f00acb\", element=\"07fe7b1d-3074-49ba-ba2d-f648d0c3550c\")>"
      ]
     },
     "execution_count": 76,
     "metadata": {},
     "output_type": "execute_result"
    }
   ],
   "source": [
    "search_btn = driver.find_element_by_xpath('/html/body/div/div[2]/div[3]/div/div/div[6]')\n",
    "search_btn"
   ]
  },
  {
   "cell_type": "code",
   "execution_count": 77,
   "id": "4799df2f",
   "metadata": {},
   "outputs": [],
   "source": [
    "search_btn.click()"
   ]
  },
  {
   "cell_type": "code",
   "execution_count": 78,
   "id": "41a79bd7",
   "metadata": {},
   "outputs": [],
   "source": [
    "salary_check = driver.find_element_by_xpath('/html/body/div[1]/div[3]/div[2]/section[1]/div[2]/div[4]/div[2]/div[2]/label/p/span[1]')"
   ]
  },
  {
   "cell_type": "code",
   "execution_count": 79,
   "id": "e5a033a3",
   "metadata": {},
   "outputs": [],
   "source": [
    "salary_check.click()"
   ]
  },
  {
   "cell_type": "code",
   "execution_count": 80,
   "id": "b4879330",
   "metadata": {},
   "outputs": [
    {
     "data": {
      "text/plain": [
       "[<selenium.webdriver.remote.webelement.WebElement (session=\"3f65652eac517683f7b65798d5f00acb\", element=\"ca53b1ad-f526-4aba-a420-0f303a4f60cc\")>,\n",
       " <selenium.webdriver.remote.webelement.WebElement (session=\"3f65652eac517683f7b65798d5f00acb\", element=\"dcb0fb45-571b-4ab0-8733-6f5841199be2\")>,\n",
       " <selenium.webdriver.remote.webelement.WebElement (session=\"3f65652eac517683f7b65798d5f00acb\", element=\"44182af7-cfa0-4ab4-a8a7-19bf5d04f720\")>,\n",
       " <selenium.webdriver.remote.webelement.WebElement (session=\"3f65652eac517683f7b65798d5f00acb\", element=\"82e673a6-59f1-4e1f-b67b-ac34e3d5a26c\")>,\n",
       " <selenium.webdriver.remote.webelement.WebElement (session=\"3f65652eac517683f7b65798d5f00acb\", element=\"e2baac73-a8fd-4587-a0aa-9fc13fe95315\")>,\n",
       " <selenium.webdriver.remote.webelement.WebElement (session=\"3f65652eac517683f7b65798d5f00acb\", element=\"e23c8af7-e0fa-4945-b847-62d6a38045c9\")>,\n",
       " <selenium.webdriver.remote.webelement.WebElement (session=\"3f65652eac517683f7b65798d5f00acb\", element=\"7775819f-6d50-4e99-983b-7ff135545a8d\")>,\n",
       " <selenium.webdriver.remote.webelement.WebElement (session=\"3f65652eac517683f7b65798d5f00acb\", element=\"372743c7-0f4a-4b7b-b167-1661324a3d7e\")>,\n",
       " <selenium.webdriver.remote.webelement.WebElement (session=\"3f65652eac517683f7b65798d5f00acb\", element=\"45ef8399-8d1b-4362-a90a-a105805d2d7c\")>,\n",
       " <selenium.webdriver.remote.webelement.WebElement (session=\"3f65652eac517683f7b65798d5f00acb\", element=\"62e1a3ba-a7a9-47c8-b4a8-5bef06512cf5\")>]"
      ]
     },
     "execution_count": 80,
     "metadata": {},
     "output_type": "execute_result"
    }
   ],
   "source": [
    "title_tags = driver.find_elements_by_xpath('//a[@class=\"title fw500 ellipsis\"]')\n",
    "len(title_tags)\n",
    "title_tags[0:10]"
   ]
  },
  {
   "cell_type": "code",
   "execution_count": 81,
   "id": "de7cfcb7",
   "metadata": {},
   "outputs": [
    {
     "data": {
      "text/plain": [
       "['Hiring For Senior Data Scientist-Noida',\n",
       " 'Excellent Opportunity For Freshers For AI/ML, Data Scientist, BI, QA',\n",
       " 'Data Analyst / Data Scientist / Business Analytics / Fresher - MNC',\n",
       " 'Data scientist- Python',\n",
       " 'Data Scientist _NLP',\n",
       " 'Junior Data Analyst/ Scientist- Fresher Position',\n",
       " 'Data Scientist - MIND Infotech',\n",
       " 'Data Scientist - MIND Infotech',\n",
       " 'Lead Data Scientist',\n",
       " 'Hiring For Data Scientist- Gurgaon/ Noida']"
      ]
     },
     "execution_count": 81,
     "metadata": {},
     "output_type": "execute_result"
    }
   ],
   "source": [
    "job_titles = []\n",
    "for i in title_tags:\n",
    "    job_titles.append(i.text)\n",
    "len(job_titles)\n",
    "job_titles[0:10]"
   ]
  },
  {
   "cell_type": "code",
   "execution_count": 82,
   "id": "ed78b24b",
   "metadata": {},
   "outputs": [
    {
     "data": {
      "text/plain": [
       "[<selenium.webdriver.remote.webelement.WebElement (session=\"3f65652eac517683f7b65798d5f00acb\", element=\"aceb8ebf-c4ee-4e89-aa30-f12a0223e4af\")>,\n",
       " <selenium.webdriver.remote.webelement.WebElement (session=\"3f65652eac517683f7b65798d5f00acb\", element=\"764cf916-0f63-4004-be0c-070eee18c45f\")>,\n",
       " <selenium.webdriver.remote.webelement.WebElement (session=\"3f65652eac517683f7b65798d5f00acb\", element=\"9489c626-acee-4417-8604-e7b8e8a5ea5c\")>,\n",
       " <selenium.webdriver.remote.webelement.WebElement (session=\"3f65652eac517683f7b65798d5f00acb\", element=\"7a80d482-c536-4327-87cf-daaf2ed53f53\")>,\n",
       " <selenium.webdriver.remote.webelement.WebElement (session=\"3f65652eac517683f7b65798d5f00acb\", element=\"a0b8c97d-c164-45d6-bfcf-f0a5d9cf9cc0\")>,\n",
       " <selenium.webdriver.remote.webelement.WebElement (session=\"3f65652eac517683f7b65798d5f00acb\", element=\"804f5025-10af-41a8-9707-74d97bc9b41f\")>,\n",
       " <selenium.webdriver.remote.webelement.WebElement (session=\"3f65652eac517683f7b65798d5f00acb\", element=\"e89b651a-ec2a-497d-ad51-5d5e040df8d8\")>,\n",
       " <selenium.webdriver.remote.webelement.WebElement (session=\"3f65652eac517683f7b65798d5f00acb\", element=\"b64960d0-a045-4e16-a3c4-8e772d6ca6a9\")>,\n",
       " <selenium.webdriver.remote.webelement.WebElement (session=\"3f65652eac517683f7b65798d5f00acb\", element=\"fabfcdd8-5df4-4cf5-ba4f-49f548cef348\")>,\n",
       " <selenium.webdriver.remote.webelement.WebElement (session=\"3f65652eac517683f7b65798d5f00acb\", element=\"9437fe60-6369-4f16-b3ca-170921e55fcd\")>]"
      ]
     },
     "execution_count": 82,
     "metadata": {},
     "output_type": "execute_result"
    }
   ],
   "source": [
    "company_tags = driver.find_elements_by_xpath('//a[@class=\"subTitle ellipsis fleft\"]')\n",
    "company_tags[0:10]"
   ]
  },
  {
   "cell_type": "code",
   "execution_count": 83,
   "id": "6846682d",
   "metadata": {},
   "outputs": [
    {
     "data": {
      "text/plain": [
       "['Lumiq.ai',\n",
       " 'NTT Data',\n",
       " 'GABA Consultancy services',\n",
       " 'TeamPlus Staffing Solution Pvt Ltd',\n",
       " 'EXL',\n",
       " 'Sejal Consulting Hub',\n",
       " 'MOTHERSONSUMI INFOTECH & DESIGNS LIMITED',\n",
       " 'MOTHERSONSUMI INFOTECH & DESIGNS LIMITED',\n",
       " 'Indihire HR Consultants Private Limited',\n",
       " 'Mascot e-services']"
      ]
     },
     "execution_count": 83,
     "metadata": {},
     "output_type": "execute_result"
    }
   ],
   "source": [
    "company_names = []\n",
    "for i in company_tags:\n",
    "    company_names.append(i.text)\n",
    "company_names[0:10]"
   ]
  },
  {
   "cell_type": "code",
   "execution_count": 84,
   "id": "e457a5a3",
   "metadata": {},
   "outputs": [
    {
     "data": {
      "text/plain": [
       "20"
      ]
     },
     "execution_count": 84,
     "metadata": {},
     "output_type": "execute_result"
    }
   ],
   "source": [
    "locn_tags = driver.find_elements_by_xpath('//li[@class=\"fleft grey-text br2 placeHolderLi location\"]')\n",
    "len(locn_tags)"
   ]
  },
  {
   "cell_type": "code",
   "execution_count": 85,
   "id": "b6661035",
   "metadata": {},
   "outputs": [
    {
     "data": {
      "text/plain": [
       "['Noida, New Delhi, Greater Noida',\n",
       " 'Noida, Kolkata, Hyderabad/Secunderabad, Pune, Chennai, Bangalore/Bengaluru, Delhi / NCR, Mumbai (All Areas)\\n(WFH during Covid)',\n",
       " 'Noida, New Delhi, Delhi / NCR',\n",
       " 'Gurgaon/Gurugram',\n",
       " 'Bangalore/Bengaluru, Delhi / NCR\\n(WFH during Covid)',\n",
       " 'Kolkata, Hyderabad/Secunderabad, Pune, Ahmedabad, Chennai, Bangalore/Bengaluru, Delhi / NCR, Mumbai (All Areas)\\n(WFH during Covid)',\n",
       " 'Noida',\n",
       " 'Noida',\n",
       " 'Delhi / NCR\\n(WFH during Covid)',\n",
       " 'Noida, Gurgaon/Gurugram']"
      ]
     },
     "execution_count": 85,
     "metadata": {},
     "output_type": "execute_result"
    }
   ],
   "source": [
    "location = []\n",
    "for i in locn_tags:\n",
    "    location.append(i.text)\n",
    "location[0:10]"
   ]
  },
  {
   "cell_type": "code",
   "execution_count": 88,
   "id": "6cec40c1",
   "metadata": {},
   "outputs": [
    {
     "data": {
      "text/plain": [
       "(20, 20, 20)"
      ]
     },
     "execution_count": 88,
     "metadata": {},
     "output_type": "execute_result"
    }
   ],
   "source": [
    "len(job_titles), len(company_names), len(location)"
   ]
  },
  {
   "cell_type": "code",
   "execution_count": 89,
   "id": "d5b52c78",
   "metadata": {},
   "outputs": [
    {
     "data": {
      "text/html": [
       "<div>\n",
       "<style scoped>\n",
       "    .dataframe tbody tr th:only-of-type {\n",
       "        vertical-align: middle;\n",
       "    }\n",
       "\n",
       "    .dataframe tbody tr th {\n",
       "        vertical-align: top;\n",
       "    }\n",
       "\n",
       "    .dataframe thead th {\n",
       "        text-align: right;\n",
       "    }\n",
       "</style>\n",
       "<table border=\"1\" class=\"dataframe\">\n",
       "  <thead>\n",
       "    <tr style=\"text-align: right;\">\n",
       "      <th></th>\n",
       "      <th>Job Titles</th>\n",
       "      <th>Company</th>\n",
       "      <th>Location</th>\n",
       "    </tr>\n",
       "  </thead>\n",
       "  <tbody>\n",
       "    <tr>\n",
       "      <th>0</th>\n",
       "      <td>Hiring For Senior Data Scientist-Noida</td>\n",
       "      <td>Lumiq.ai</td>\n",
       "      <td>Noida, New Delhi, Greater Noida</td>\n",
       "    </tr>\n",
       "    <tr>\n",
       "      <th>1</th>\n",
       "      <td>Excellent Opportunity For Freshers For AI/ML, ...</td>\n",
       "      <td>NTT Data</td>\n",
       "      <td>Noida, Kolkata, Hyderabad/Secunderabad, Pune, ...</td>\n",
       "    </tr>\n",
       "    <tr>\n",
       "      <th>2</th>\n",
       "      <td>Data Analyst / Data Scientist / Business Analy...</td>\n",
       "      <td>GABA Consultancy services</td>\n",
       "      <td>Noida, New Delhi, Delhi / NCR</td>\n",
       "    </tr>\n",
       "    <tr>\n",
       "      <th>3</th>\n",
       "      <td>Data scientist- Python</td>\n",
       "      <td>TeamPlus Staffing Solution Pvt Ltd</td>\n",
       "      <td>Gurgaon/Gurugram</td>\n",
       "    </tr>\n",
       "    <tr>\n",
       "      <th>4</th>\n",
       "      <td>Data Scientist _NLP</td>\n",
       "      <td>EXL</td>\n",
       "      <td>Bangalore/Bengaluru, Delhi / NCR\\n(WFH during ...</td>\n",
       "    </tr>\n",
       "    <tr>\n",
       "      <th>5</th>\n",
       "      <td>Junior Data Analyst/ Scientist- Fresher Position</td>\n",
       "      <td>Sejal Consulting Hub</td>\n",
       "      <td>Kolkata, Hyderabad/Secunderabad, Pune, Ahmedab...</td>\n",
       "    </tr>\n",
       "    <tr>\n",
       "      <th>6</th>\n",
       "      <td>Data Scientist - MIND Infotech</td>\n",
       "      <td>MOTHERSONSUMI INFOTECH &amp; DESIGNS LIMITED</td>\n",
       "      <td>Noida</td>\n",
       "    </tr>\n",
       "    <tr>\n",
       "      <th>7</th>\n",
       "      <td>Data Scientist - MIND Infotech</td>\n",
       "      <td>MOTHERSONSUMI INFOTECH &amp; DESIGNS LIMITED</td>\n",
       "      <td>Noida</td>\n",
       "    </tr>\n",
       "    <tr>\n",
       "      <th>8</th>\n",
       "      <td>Lead Data Scientist</td>\n",
       "      <td>Indihire HR Consultants Private Limited</td>\n",
       "      <td>Delhi / NCR\\n(WFH during Covid)</td>\n",
       "    </tr>\n",
       "    <tr>\n",
       "      <th>9</th>\n",
       "      <td>Hiring For Data Scientist- Gurgaon/ Noida</td>\n",
       "      <td>Mascot e-services</td>\n",
       "      <td>Noida, Gurgaon/Gurugram</td>\n",
       "    </tr>\n",
       "    <tr>\n",
       "      <th>10</th>\n",
       "      <td>Only Fresher / Python Data Scientist / Trainee...</td>\n",
       "      <td>GABA Consultancy services</td>\n",
       "      <td>Noida, New Delhi, Gurgaon/Gurugram</td>\n",
       "    </tr>\n",
       "    <tr>\n",
       "      <th>11</th>\n",
       "      <td>Urgent Requirement || Data Scientist || Noida</td>\n",
       "      <td>HCL</td>\n",
       "      <td>Noida, Delhi / NCR</td>\n",
       "    </tr>\n",
       "    <tr>\n",
       "      <th>12</th>\n",
       "      <td>Senior Data Scientist</td>\n",
       "      <td>iNICU</td>\n",
       "      <td>Delhi</td>\n",
       "    </tr>\n",
       "    <tr>\n",
       "      <th>13</th>\n",
       "      <td>Data Scientist</td>\n",
       "      <td>Boston Consulting Group</td>\n",
       "      <td>New Delhi</td>\n",
       "    </tr>\n",
       "    <tr>\n",
       "      <th>14</th>\n",
       "      <td>Data Scientist</td>\n",
       "      <td>Stefanini</td>\n",
       "      <td>Noida</td>\n",
       "    </tr>\n",
       "    <tr>\n",
       "      <th>15</th>\n",
       "      <td>Lead Data Scientist - KYC/Fraud/Marketing</td>\n",
       "      <td>Tide Software</td>\n",
       "      <td>New Delhi</td>\n",
       "    </tr>\n",
       "    <tr>\n",
       "      <th>16</th>\n",
       "      <td>Open Project | IT Consulting | Data Scientist</td>\n",
       "      <td>Virtuoso Staffing Solutions Pvt Ltd</td>\n",
       "      <td>Noida, New Delhi, Bangalore Rural, Bangalore/B...</td>\n",
       "    </tr>\n",
       "    <tr>\n",
       "      <th>17</th>\n",
       "      <td>Data Scientist</td>\n",
       "      <td>BlackBuck</td>\n",
       "      <td>Gurgaon, Bengaluru</td>\n",
       "    </tr>\n",
       "    <tr>\n",
       "      <th>18</th>\n",
       "      <td>Data Scientist</td>\n",
       "      <td>Country Veggie</td>\n",
       "      <td>Bharuch, Jaipur, Bhopal, Mumbai, Jhansi, Nagpu...</td>\n",
       "    </tr>\n",
       "    <tr>\n",
       "      <th>19</th>\n",
       "      <td>Data Scientist</td>\n",
       "      <td>NAVIKENZ INDIA PRIVATE LIMITED</td>\n",
       "      <td>Hyderabad/Secunderabad, Bangalore/Bengaluru, D...</td>\n",
       "    </tr>\n",
       "  </tbody>\n",
       "</table>\n",
       "</div>"
      ],
      "text/plain": [
       "                                           Job Titles  \\\n",
       "0              Hiring For Senior Data Scientist-Noida   \n",
       "1   Excellent Opportunity For Freshers For AI/ML, ...   \n",
       "2   Data Analyst / Data Scientist / Business Analy...   \n",
       "3                              Data scientist- Python   \n",
       "4                                 Data Scientist _NLP   \n",
       "5    Junior Data Analyst/ Scientist- Fresher Position   \n",
       "6                      Data Scientist - MIND Infotech   \n",
       "7                      Data Scientist - MIND Infotech   \n",
       "8                                 Lead Data Scientist   \n",
       "9           Hiring For Data Scientist- Gurgaon/ Noida   \n",
       "10  Only Fresher / Python Data Scientist / Trainee...   \n",
       "11      Urgent Requirement || Data Scientist || Noida   \n",
       "12                              Senior Data Scientist   \n",
       "13                                     Data Scientist   \n",
       "14                                     Data Scientist   \n",
       "15          Lead Data Scientist - KYC/Fraud/Marketing   \n",
       "16      Open Project | IT Consulting | Data Scientist   \n",
       "17                                     Data Scientist   \n",
       "18                                     Data Scientist   \n",
       "19                                     Data Scientist   \n",
       "\n",
       "                                     Company  \\\n",
       "0                                   Lumiq.ai   \n",
       "1                                   NTT Data   \n",
       "2                  GABA Consultancy services   \n",
       "3         TeamPlus Staffing Solution Pvt Ltd   \n",
       "4                                        EXL   \n",
       "5                       Sejal Consulting Hub   \n",
       "6   MOTHERSONSUMI INFOTECH & DESIGNS LIMITED   \n",
       "7   MOTHERSONSUMI INFOTECH & DESIGNS LIMITED   \n",
       "8    Indihire HR Consultants Private Limited   \n",
       "9                          Mascot e-services   \n",
       "10                 GABA Consultancy services   \n",
       "11                                       HCL   \n",
       "12                                     iNICU   \n",
       "13                   Boston Consulting Group   \n",
       "14                                 Stefanini   \n",
       "15                             Tide Software   \n",
       "16       Virtuoso Staffing Solutions Pvt Ltd   \n",
       "17                                 BlackBuck   \n",
       "18                            Country Veggie   \n",
       "19            NAVIKENZ INDIA PRIVATE LIMITED   \n",
       "\n",
       "                                             Location  \n",
       "0                     Noida, New Delhi, Greater Noida  \n",
       "1   Noida, Kolkata, Hyderabad/Secunderabad, Pune, ...  \n",
       "2                       Noida, New Delhi, Delhi / NCR  \n",
       "3                                    Gurgaon/Gurugram  \n",
       "4   Bangalore/Bengaluru, Delhi / NCR\\n(WFH during ...  \n",
       "5   Kolkata, Hyderabad/Secunderabad, Pune, Ahmedab...  \n",
       "6                                               Noida  \n",
       "7                                               Noida  \n",
       "8                     Delhi / NCR\\n(WFH during Covid)  \n",
       "9                             Noida, Gurgaon/Gurugram  \n",
       "10                 Noida, New Delhi, Gurgaon/Gurugram  \n",
       "11                                 Noida, Delhi / NCR  \n",
       "12                                              Delhi  \n",
       "13                                          New Delhi  \n",
       "14                                              Noida  \n",
       "15                                          New Delhi  \n",
       "16  Noida, New Delhi, Bangalore Rural, Bangalore/B...  \n",
       "17                                 Gurgaon, Bengaluru  \n",
       "18  Bharuch, Jaipur, Bhopal, Mumbai, Jhansi, Nagpu...  \n",
       "19  Hyderabad/Secunderabad, Bangalore/Bengaluru, D...  "
      ]
     },
     "execution_count": 89,
     "metadata": {},
     "output_type": "execute_result"
    }
   ],
   "source": [
    "jobs = pd.DataFrame()\n",
    "jobs['Job Titles'] = job_titles\n",
    "jobs['Company'] = company_names\n",
    "jobs['Location'] = location\n",
    "jobs"
   ]
  },
  {
   "cell_type": "code",
   "execution_count": 90,
   "id": "46984d71",
   "metadata": {},
   "outputs": [],
   "source": [
    "driver = webdriver.Chrome(r'C:/Users/hp/Downloads/chromedriver_win32/chromedriver.exe')"
   ]
  },
  {
   "cell_type": "code",
   "execution_count": 91,
   "id": "8dedbcf0",
   "metadata": {},
   "outputs": [],
   "source": [
    "driver = webdriver.Chrome('chromedriver.exe')"
   ]
  },
  {
   "cell_type": "code",
   "execution_count": 92,
   "id": "20249d9e",
   "metadata": {},
   "outputs": [],
   "source": [
    "url = 'https://www.flipkart.com/'\n",
    "driver.get(url)"
   ]
  },
  {
   "cell_type": "code",
   "execution_count": 100,
   "id": "c294b618",
   "metadata": {},
   "outputs": [
    {
     "data": {
      "text/plain": [
       "[<selenium.webdriver.remote.webelement.WebElement (session=\"e7bd7c0450459ceef59eb5bff1af8d15\", element=\"b5896f21-2b71-4cd6-ad99-4b2bab0c3977\")>,\n",
       " <selenium.webdriver.remote.webelement.WebElement (session=\"e7bd7c0450459ceef59eb5bff1af8d15\", element=\"2caaa367-67ad-440a-9463-5d868c078437\")>,\n",
       " <selenium.webdriver.remote.webelement.WebElement (session=\"e7bd7c0450459ceef59eb5bff1af8d15\", element=\"ad660b0f-e3a6-433a-a54a-d8651b79c948\")>,\n",
       " <selenium.webdriver.remote.webelement.WebElement (session=\"e7bd7c0450459ceef59eb5bff1af8d15\", element=\"24b19ccd-423f-4746-a934-7f5531af47a4\")>,\n",
       " <selenium.webdriver.remote.webelement.WebElement (session=\"e7bd7c0450459ceef59eb5bff1af8d15\", element=\"e8e3bc37-1a57-4857-ba1e-cfc0af9c2525\")>,\n",
       " <selenium.webdriver.remote.webelement.WebElement (session=\"e7bd7c0450459ceef59eb5bff1af8d15\", element=\"4e300c3f-e66d-4135-ac37-b3b9991ea69d\")>,\n",
       " <selenium.webdriver.remote.webelement.WebElement (session=\"e7bd7c0450459ceef59eb5bff1af8d15\", element=\"4f7b1d50-72f8-46b8-897c-04e809ed678a\")>,\n",
       " <selenium.webdriver.remote.webelement.WebElement (session=\"e7bd7c0450459ceef59eb5bff1af8d15\", element=\"64a9fb4c-0e40-439c-b919-e97e3f4507ec\")>,\n",
       " <selenium.webdriver.remote.webelement.WebElement (session=\"e7bd7c0450459ceef59eb5bff1af8d15\", element=\"fe3cd27e-37f3-4ada-9426-7018e784cc18\")>,\n",
       " <selenium.webdriver.remote.webelement.WebElement (session=\"e7bd7c0450459ceef59eb5bff1af8d15\", element=\"45252b19-e7b9-41ac-97bb-4b7eb117240a\")>,\n",
       " <selenium.webdriver.remote.webelement.WebElement (session=\"e7bd7c0450459ceef59eb5bff1af8d15\", element=\"0078d26b-30f6-4b87-a966-e78fda3fa729\")>,\n",
       " <selenium.webdriver.remote.webelement.WebElement (session=\"e7bd7c0450459ceef59eb5bff1af8d15\", element=\"0bdbe69b-ac26-4cd9-924b-c0fbde4f2b0a\")>,\n",
       " <selenium.webdriver.remote.webelement.WebElement (session=\"e7bd7c0450459ceef59eb5bff1af8d15\", element=\"841388ab-0627-4f71-8bd7-145bb7f1af3d\")>,\n",
       " <selenium.webdriver.remote.webelement.WebElement (session=\"e7bd7c0450459ceef59eb5bff1af8d15\", element=\"6e1249e5-f9fc-4b97-8980-899742ab5089\")>,\n",
       " <selenium.webdriver.remote.webelement.WebElement (session=\"e7bd7c0450459ceef59eb5bff1af8d15\", element=\"7c6fa7ab-79d6-44b2-bf43-5db0c4092dd4\")>,\n",
       " <selenium.webdriver.remote.webelement.WebElement (session=\"e7bd7c0450459ceef59eb5bff1af8d15\", element=\"2cce1cfd-cb9b-4e14-b373-47b4791ed874\")>,\n",
       " <selenium.webdriver.remote.webelement.WebElement (session=\"e7bd7c0450459ceef59eb5bff1af8d15\", element=\"a14f5824-8fba-4e17-801d-67a0617ad0fe\")>,\n",
       " <selenium.webdriver.remote.webelement.WebElement (session=\"e7bd7c0450459ceef59eb5bff1af8d15\", element=\"56491fc1-812e-4e91-8b1a-553a476a5333\")>,\n",
       " <selenium.webdriver.remote.webelement.WebElement (session=\"e7bd7c0450459ceef59eb5bff1af8d15\", element=\"e58aa52e-1e13-4ece-9939-eee648276525\")>,\n",
       " <selenium.webdriver.remote.webelement.WebElement (session=\"e7bd7c0450459ceef59eb5bff1af8d15\", element=\"92a05f68-e800-4390-a69e-6c42facc1c9d\")>,\n",
       " <selenium.webdriver.remote.webelement.WebElement (session=\"e7bd7c0450459ceef59eb5bff1af8d15\", element=\"b25ca85f-da4f-4743-8159-10d1a0182bae\")>,\n",
       " <selenium.webdriver.remote.webelement.WebElement (session=\"e7bd7c0450459ceef59eb5bff1af8d15\", element=\"7b7f7359-cd58-457a-9b9d-fd072bcc70b8\")>,\n",
       " <selenium.webdriver.remote.webelement.WebElement (session=\"e7bd7c0450459ceef59eb5bff1af8d15\", element=\"ff387e36-e8fe-4ddb-939c-ac9af97655df\")>,\n",
       " <selenium.webdriver.remote.webelement.WebElement (session=\"e7bd7c0450459ceef59eb5bff1af8d15\", element=\"59f8d83c-5d29-485e-ae54-38f207938546\")>,\n",
       " <selenium.webdriver.remote.webelement.WebElement (session=\"e7bd7c0450459ceef59eb5bff1af8d15\", element=\"76373e92-f162-4351-bae5-954e0e503c54\")>,\n",
       " <selenium.webdriver.remote.webelement.WebElement (session=\"e7bd7c0450459ceef59eb5bff1af8d15\", element=\"8c43cc00-dc17-435c-be0a-e4c41ca09392\")>,\n",
       " <selenium.webdriver.remote.webelement.WebElement (session=\"e7bd7c0450459ceef59eb5bff1af8d15\", element=\"5ce7911e-8395-407c-8c03-5304945db962\")>,\n",
       " <selenium.webdriver.remote.webelement.WebElement (session=\"e7bd7c0450459ceef59eb5bff1af8d15\", element=\"8bb34d6a-1d68-4068-9240-b61120fb0861\")>,\n",
       " <selenium.webdriver.remote.webelement.WebElement (session=\"e7bd7c0450459ceef59eb5bff1af8d15\", element=\"f463d8af-3ddf-456c-b9ec-42832eb7700e\")>,\n",
       " <selenium.webdriver.remote.webelement.WebElement (session=\"e7bd7c0450459ceef59eb5bff1af8d15\", element=\"8b7cc5a6-5860-4476-ac5b-baf98f848425\")>,\n",
       " <selenium.webdriver.remote.webelement.WebElement (session=\"e7bd7c0450459ceef59eb5bff1af8d15\", element=\"6b63dd3e-bfb7-425c-9e83-2647a476f33c\")>,\n",
       " <selenium.webdriver.remote.webelement.WebElement (session=\"e7bd7c0450459ceef59eb5bff1af8d15\", element=\"4e24483e-2dd2-45a0-a5ca-cbe15eef1734\")>,\n",
       " <selenium.webdriver.remote.webelement.WebElement (session=\"e7bd7c0450459ceef59eb5bff1af8d15\", element=\"5ab22a9d-3a9a-48ef-b88d-51d6176f2994\")>,\n",
       " <selenium.webdriver.remote.webelement.WebElement (session=\"e7bd7c0450459ceef59eb5bff1af8d15\", element=\"18247a26-1c5b-48bb-beb3-e9d21d73898c\")>,\n",
       " <selenium.webdriver.remote.webelement.WebElement (session=\"e7bd7c0450459ceef59eb5bff1af8d15\", element=\"5f6a01c4-1b1e-42a2-875b-56d481c02c4d\")>,\n",
       " <selenium.webdriver.remote.webelement.WebElement (session=\"e7bd7c0450459ceef59eb5bff1af8d15\", element=\"644b3866-a99b-4fae-9413-b8d06ec73f94\")>,\n",
       " <selenium.webdriver.remote.webelement.WebElement (session=\"e7bd7c0450459ceef59eb5bff1af8d15\", element=\"71bc7aa3-e644-4304-b574-77d960b67f39\")>,\n",
       " <selenium.webdriver.remote.webelement.WebElement (session=\"e7bd7c0450459ceef59eb5bff1af8d15\", element=\"f4ceb4e4-35ab-4b22-a17f-55f76a7ee410\")>,\n",
       " <selenium.webdriver.remote.webelement.WebElement (session=\"e7bd7c0450459ceef59eb5bff1af8d15\", element=\"f710caa9-c32a-473b-a495-88e0ffa58785\")>,\n",
       " <selenium.webdriver.remote.webelement.WebElement (session=\"e7bd7c0450459ceef59eb5bff1af8d15\", element=\"7808f317-d5df-45ab-abcc-1900009fe42b\")>]"
      ]
     },
     "execution_count": 100,
     "metadata": {},
     "output_type": "execute_result"
    }
   ],
   "source": [
    "title_tags = driver.find_elements_by_xpath('//a[@class=\"IRpwTa\"]')\n",
    "len(title_tags)\n",
    "title_tags[0:40]"
   ]
  },
  {
   "cell_type": "code",
   "execution_count": 104,
   "id": "75d2d1b9",
   "metadata": {},
   "outputs": [
    {
     "data": {
      "text/plain": [
       "['UV Protection, Gradient Butterfly, Retro Square Sunglas...',\n",
       " 'UV Protection Oval Sunglasses (60)',\n",
       " 'UV Protection Round Sunglasses (54)',\n",
       " 'UV Protection Round Sunglasses (53)',\n",
       " 'UV Protection, Mirrored Retro Square Sunglasses (53)',\n",
       " 'UV Protection Wayfarer Sunglasses (50)',\n",
       " 'UV Protection Round Sunglasses (54)',\n",
       " 'UV Protection, Gradient Cat-eye Sunglasses (61)',\n",
       " 'UV Protection, Polarized, Mirrored Round Sunglasses (Fr...',\n",
       " 'UV Protection Rectangular Sunglasses (Free Size)',\n",
       " 'UV Protection, Polarized, Mirrored Rectangular Sunglass...',\n",
       " 'UV Protection, Gradient Round Sunglasses (Free Size)',\n",
       " 'UV Protection Rectangular Sunglasses (Free Size)',\n",
       " 'UV Protection, Others Round, Aviator Sunglasses (54)',\n",
       " 'UV Protection Round Sunglasses (50)',\n",
       " 'Mirrored, UV Protection, Riding Glasses Wayfarer Sungla...',\n",
       " 'UV Protection, Gradient Round Sunglasses (Free Size)',\n",
       " 'UV Protection Retro Square Sunglasses (Free Size)',\n",
       " 'UV Protection, Gradient Rectangular Sunglasses (Free Si...',\n",
       " 'Polarized, UV Protection Retro Square Sunglasses (62)',\n",
       " 'UV Protection Aviator Sunglasses (54)',\n",
       " 'UV Protection Aviator Sunglasses (Free Size)',\n",
       " 'UV Protection Retro Square Sunglasses (53)',\n",
       " 'Polarized, UV Protection Aviator Sunglasses (57)',\n",
       " 'Riding Glasses, UV Protection Oval Sunglasses (52)',\n",
       " 'Polarized Round Sunglasses (48)',\n",
       " 'Mirrored, UV Protection, Gradient Round Sunglasses (55)',\n",
       " 'UV Protection Rectangular Sunglasses (Free Size)',\n",
       " 'UV Protection Rectangular Sunglasses (58)',\n",
       " 'UV Protection, Polarized Wayfarer Sunglasses (Free Size...',\n",
       " 'UV Protection Aviator Sunglasses (88)',\n",
       " 'UV Protection, Gradient Retro Square Sunglasses (Free S...',\n",
       " 'UV Protection, Riding Glasses, Mirrored Wayfarer Sungla...',\n",
       " 'Mirrored, UV Protection Wayfarer, Rectangular Sunglasse...',\n",
       " 'UV Protection Round Sunglasses (48)',\n",
       " 'Toughened Glass Lens, UV Protection Aviator Sunglasses ...',\n",
       " 'UV Protection, Polarized, Mirrored Rectangular Sunglass...',\n",
       " 'UV Protection, Polarized Oval, Retro Square Sunglasses ...',\n",
       " 'Polarized, Night Vision, Riding Glasses Sports, Wrap-ar...',\n",
       " 'UV Protection, Gradient Oval Sunglasses (58)']"
      ]
     },
     "execution_count": 104,
     "metadata": {},
     "output_type": "execute_result"
    }
   ],
   "source": [
    "product_titles = []\n",
    "for i in title_tags:\n",
    "    product_titles.append(i.text)\n",
    "len(product_titles)\n",
    "product_titles[0:40]"
   ]
  },
  {
   "cell_type": "code",
   "execution_count": 102,
   "id": "9ea7ce0c",
   "metadata": {},
   "outputs": [
    {
     "data": {
      "text/plain": [
       "[<selenium.webdriver.remote.webelement.WebElement (session=\"e7bd7c0450459ceef59eb5bff1af8d15\", element=\"4fba8b77-2eba-40ce-8537-30202412c4d9\")>,\n",
       " <selenium.webdriver.remote.webelement.WebElement (session=\"e7bd7c0450459ceef59eb5bff1af8d15\", element=\"42a94b67-37fa-40ca-9f6a-765b4b372170\")>,\n",
       " <selenium.webdriver.remote.webelement.WebElement (session=\"e7bd7c0450459ceef59eb5bff1af8d15\", element=\"7cd4ff2f-3863-4d3e-9d05-ef459e381de6\")>,\n",
       " <selenium.webdriver.remote.webelement.WebElement (session=\"e7bd7c0450459ceef59eb5bff1af8d15\", element=\"0eaec7c9-d855-4d63-924a-a77da8f9a92b\")>,\n",
       " <selenium.webdriver.remote.webelement.WebElement (session=\"e7bd7c0450459ceef59eb5bff1af8d15\", element=\"46755720-1557-4fa1-955e-64f49b3998e6\")>,\n",
       " <selenium.webdriver.remote.webelement.WebElement (session=\"e7bd7c0450459ceef59eb5bff1af8d15\", element=\"832e9d48-0a10-4e4a-a90f-340c04193693\")>,\n",
       " <selenium.webdriver.remote.webelement.WebElement (session=\"e7bd7c0450459ceef59eb5bff1af8d15\", element=\"04f627d4-c9ea-4e1f-af4c-74da194e6e7f\")>,\n",
       " <selenium.webdriver.remote.webelement.WebElement (session=\"e7bd7c0450459ceef59eb5bff1af8d15\", element=\"debd6a8b-693f-4b55-ac57-865715cfe96e\")>,\n",
       " <selenium.webdriver.remote.webelement.WebElement (session=\"e7bd7c0450459ceef59eb5bff1af8d15\", element=\"0302e968-03a2-4486-a362-cd93ee5c7a82\")>,\n",
       " <selenium.webdriver.remote.webelement.WebElement (session=\"e7bd7c0450459ceef59eb5bff1af8d15\", element=\"983e4499-680b-41ba-b478-b9f20cf08e98\")>,\n",
       " <selenium.webdriver.remote.webelement.WebElement (session=\"e7bd7c0450459ceef59eb5bff1af8d15\", element=\"ae13e074-e13b-4e91-83d4-6032f3f2357d\")>,\n",
       " <selenium.webdriver.remote.webelement.WebElement (session=\"e7bd7c0450459ceef59eb5bff1af8d15\", element=\"e82b3b4c-2a0e-4c65-80ec-599d34b2f0fc\")>,\n",
       " <selenium.webdriver.remote.webelement.WebElement (session=\"e7bd7c0450459ceef59eb5bff1af8d15\", element=\"cf21fcb7-b0b8-4f80-bc8b-797ef2957ebb\")>,\n",
       " <selenium.webdriver.remote.webelement.WebElement (session=\"e7bd7c0450459ceef59eb5bff1af8d15\", element=\"7ec280bc-b652-4484-9547-82e5b7450ab6\")>,\n",
       " <selenium.webdriver.remote.webelement.WebElement (session=\"e7bd7c0450459ceef59eb5bff1af8d15\", element=\"7043b561-6cc5-4cf0-89e2-6ce334516290\")>,\n",
       " <selenium.webdriver.remote.webelement.WebElement (session=\"e7bd7c0450459ceef59eb5bff1af8d15\", element=\"9b62f99c-b5c9-492f-b3d5-1b095a0893ad\")>,\n",
       " <selenium.webdriver.remote.webelement.WebElement (session=\"e7bd7c0450459ceef59eb5bff1af8d15\", element=\"f94d69ad-f53d-4a1e-8c7e-9443d8ed2379\")>,\n",
       " <selenium.webdriver.remote.webelement.WebElement (session=\"e7bd7c0450459ceef59eb5bff1af8d15\", element=\"c8578e16-1981-4de2-9ee7-10f0fcfc7d14\")>,\n",
       " <selenium.webdriver.remote.webelement.WebElement (session=\"e7bd7c0450459ceef59eb5bff1af8d15\", element=\"cc3ec7be-01cc-42be-98e3-15b6830b7658\")>,\n",
       " <selenium.webdriver.remote.webelement.WebElement (session=\"e7bd7c0450459ceef59eb5bff1af8d15\", element=\"c017d835-8e19-423a-a10b-c27202770cb1\")>,\n",
       " <selenium.webdriver.remote.webelement.WebElement (session=\"e7bd7c0450459ceef59eb5bff1af8d15\", element=\"9d2ff727-6bcb-4951-9726-44b566a0eafc\")>,\n",
       " <selenium.webdriver.remote.webelement.WebElement (session=\"e7bd7c0450459ceef59eb5bff1af8d15\", element=\"1ab4adb4-37ff-410f-ae64-54410ed88e03\")>,\n",
       " <selenium.webdriver.remote.webelement.WebElement (session=\"e7bd7c0450459ceef59eb5bff1af8d15\", element=\"1c4b7500-116d-45da-b00a-a64d68a0725f\")>,\n",
       " <selenium.webdriver.remote.webelement.WebElement (session=\"e7bd7c0450459ceef59eb5bff1af8d15\", element=\"17e88911-a35d-4e9c-bd27-ee48904e9030\")>,\n",
       " <selenium.webdriver.remote.webelement.WebElement (session=\"e7bd7c0450459ceef59eb5bff1af8d15\", element=\"42900ddc-4745-48cc-af73-8e9cc539afc9\")>,\n",
       " <selenium.webdriver.remote.webelement.WebElement (session=\"e7bd7c0450459ceef59eb5bff1af8d15\", element=\"568d0a54-d1a6-4f41-850e-77276befddd2\")>,\n",
       " <selenium.webdriver.remote.webelement.WebElement (session=\"e7bd7c0450459ceef59eb5bff1af8d15\", element=\"ddbb3030-aa05-433d-a1bb-9c0ae6135536\")>,\n",
       " <selenium.webdriver.remote.webelement.WebElement (session=\"e7bd7c0450459ceef59eb5bff1af8d15\", element=\"20a8fca0-794c-4e24-8e08-8b7ea54c754b\")>,\n",
       " <selenium.webdriver.remote.webelement.WebElement (session=\"e7bd7c0450459ceef59eb5bff1af8d15\", element=\"9c585878-b6f6-40d9-b089-7b1b7a39ff09\")>,\n",
       " <selenium.webdriver.remote.webelement.WebElement (session=\"e7bd7c0450459ceef59eb5bff1af8d15\", element=\"51e57508-a18a-4dd0-a9c3-6737824b2f62\")>,\n",
       " <selenium.webdriver.remote.webelement.WebElement (session=\"e7bd7c0450459ceef59eb5bff1af8d15\", element=\"590171c5-bf07-47e3-ae20-239c0d58ed2e\")>,\n",
       " <selenium.webdriver.remote.webelement.WebElement (session=\"e7bd7c0450459ceef59eb5bff1af8d15\", element=\"b906cddf-f948-45f6-a607-240dead64c34\")>,\n",
       " <selenium.webdriver.remote.webelement.WebElement (session=\"e7bd7c0450459ceef59eb5bff1af8d15\", element=\"4dd0018a-b790-4d4b-9a69-b5d916fd4967\")>,\n",
       " <selenium.webdriver.remote.webelement.WebElement (session=\"e7bd7c0450459ceef59eb5bff1af8d15\", element=\"99ba64ea-f89b-4c11-b2f6-2f28f6efa596\")>,\n",
       " <selenium.webdriver.remote.webelement.WebElement (session=\"e7bd7c0450459ceef59eb5bff1af8d15\", element=\"87881228-ec21-491d-b72b-e6b06eb079bd\")>,\n",
       " <selenium.webdriver.remote.webelement.WebElement (session=\"e7bd7c0450459ceef59eb5bff1af8d15\", element=\"76d449c6-02f2-4329-bd3f-0cd69336f75e\")>,\n",
       " <selenium.webdriver.remote.webelement.WebElement (session=\"e7bd7c0450459ceef59eb5bff1af8d15\", element=\"f77932dd-8ba7-4c85-adf5-d078b0f3a274\")>,\n",
       " <selenium.webdriver.remote.webelement.WebElement (session=\"e7bd7c0450459ceef59eb5bff1af8d15\", element=\"b2fcbf76-85e3-41d4-8751-b1585b14810d\")>,\n",
       " <selenium.webdriver.remote.webelement.WebElement (session=\"e7bd7c0450459ceef59eb5bff1af8d15\", element=\"0eda35f6-ebdc-4bba-8600-0b049decd2c5\")>,\n",
       " <selenium.webdriver.remote.webelement.WebElement (session=\"e7bd7c0450459ceef59eb5bff1af8d15\", element=\"22415bf6-08b4-4d83-a4ac-3077b43a5103\")>]"
      ]
     },
     "execution_count": 102,
     "metadata": {},
     "output_type": "execute_result"
    }
   ],
   "source": [
    "price_tags = driver.find_elements_by_xpath('//a[@class=\"_3bPFwb\"]')\n",
    "price_tags[0:40]"
   ]
  },
  {
   "cell_type": "code",
   "execution_count": 103,
   "id": "32f9e20e",
   "metadata": {},
   "outputs": [
    {
     "data": {
      "text/plain": [
       "['₹446₹1,52570% off',\n",
       " '₹371₹1,09966% off',\n",
       " '₹258₹2,49589% off',\n",
       " '₹189₹99881% off',\n",
       " '₹317₹1,99984% off',\n",
       " '₹198₹1,29984% off',\n",
       " '₹186₹99981% off',\n",
       " '₹413₹1,70075% off',\n",
       " '₹284₹1,69983% off',\n",
       " '₹232₹2,59991% off',\n",
       " '₹165₹1,69990% off',\n",
       " '₹429₹1,99978% off',\n",
       " '₹199₹99980% off',\n",
       " '₹179₹99982% off',\n",
       " '₹269₹1,99686% off',\n",
       " '₹295₹2,49988% off',\n",
       " '₹342₹1,99982% off',\n",
       " '₹328₹1,99983% off',\n",
       " '₹399₹1,99980% off',\n",
       " '₹854₹1,99957% off\\nFree delivery',\n",
       " '₹206₹1,59987% off',\n",
       " '₹183₹1,59988% off',\n",
       " '₹289₹99971% off',\n",
       " '₹759₹1,99962% off\\nFree delivery',\n",
       " '₹177₹1,28886% off',\n",
       " '₹175₹49964% off',\n",
       " '₹179₹1,46687% off',\n",
       " '₹474₹1,49968% off',\n",
       " '₹474₹1,49968% off',\n",
       " '₹253₹1,29980% off',\n",
       " '₹255₹1,19978% off\\nOr Pay ₹242 + \\n 13',\n",
       " '₹331₹1,99983% off',\n",
       " '₹184₹1,19984% off',\n",
       " '₹258₹1,99987% off',\n",
       " '₹260₹79967% off',\n",
       " '₹860₹3,69976% off\\nFree delivery',\n",
       " '₹181₹99981% off',\n",
       " '₹179₹49964% off',\n",
       " '₹474₹1,99976% off',\n",
       " '₹446₹1,52570% off']"
      ]
     },
     "execution_count": 103,
     "metadata": {},
     "output_type": "execute_result"
    }
   ],
   "source": [
    "price_names = []\n",
    "for i in price_tags:\n",
    "    price_names.append(i.text)\n",
    "price_names[0:40]"
   ]
  },
  {
   "cell_type": "code",
   "execution_count": 105,
   "id": "5a7e11dc",
   "metadata": {},
   "outputs": [
    {
     "data": {
      "text/plain": [
       "(40, 40)"
      ]
     },
     "execution_count": 105,
     "metadata": {},
     "output_type": "execute_result"
    }
   ],
   "source": [
    "len(product_titles), len(price_names)"
   ]
  },
  {
   "cell_type": "code",
   "execution_count": 106,
   "id": "ee60c421",
   "metadata": {},
   "outputs": [
    {
     "data": {
      "text/html": [
       "<div>\n",
       "<style scoped>\n",
       "    .dataframe tbody tr th:only-of-type {\n",
       "        vertical-align: middle;\n",
       "    }\n",
       "\n",
       "    .dataframe tbody tr th {\n",
       "        vertical-align: top;\n",
       "    }\n",
       "\n",
       "    .dataframe thead th {\n",
       "        text-align: right;\n",
       "    }\n",
       "</style>\n",
       "<table border=\"1\" class=\"dataframe\">\n",
       "  <thead>\n",
       "    <tr style=\"text-align: right;\">\n",
       "      <th></th>\n",
       "      <th>Product Titles</th>\n",
       "      <th>Price</th>\n",
       "    </tr>\n",
       "  </thead>\n",
       "  <tbody>\n",
       "    <tr>\n",
       "      <th>0</th>\n",
       "      <td>UV Protection, Gradient Butterfly, Retro Squar...</td>\n",
       "      <td>₹446₹1,52570% off</td>\n",
       "    </tr>\n",
       "    <tr>\n",
       "      <th>1</th>\n",
       "      <td>UV Protection Oval Sunglasses (60)</td>\n",
       "      <td>₹371₹1,09966% off</td>\n",
       "    </tr>\n",
       "    <tr>\n",
       "      <th>2</th>\n",
       "      <td>UV Protection Round Sunglasses (54)</td>\n",
       "      <td>₹258₹2,49589% off</td>\n",
       "    </tr>\n",
       "    <tr>\n",
       "      <th>3</th>\n",
       "      <td>UV Protection Round Sunglasses (53)</td>\n",
       "      <td>₹189₹99881% off</td>\n",
       "    </tr>\n",
       "    <tr>\n",
       "      <th>4</th>\n",
       "      <td>UV Protection, Mirrored Retro Square Sunglasse...</td>\n",
       "      <td>₹317₹1,99984% off</td>\n",
       "    </tr>\n",
       "    <tr>\n",
       "      <th>5</th>\n",
       "      <td>UV Protection Wayfarer Sunglasses (50)</td>\n",
       "      <td>₹198₹1,29984% off</td>\n",
       "    </tr>\n",
       "    <tr>\n",
       "      <th>6</th>\n",
       "      <td>UV Protection Round Sunglasses (54)</td>\n",
       "      <td>₹186₹99981% off</td>\n",
       "    </tr>\n",
       "    <tr>\n",
       "      <th>7</th>\n",
       "      <td>UV Protection, Gradient Cat-eye Sunglasses (61)</td>\n",
       "      <td>₹413₹1,70075% off</td>\n",
       "    </tr>\n",
       "    <tr>\n",
       "      <th>8</th>\n",
       "      <td>UV Protection, Polarized, Mirrored Round Sungl...</td>\n",
       "      <td>₹284₹1,69983% off</td>\n",
       "    </tr>\n",
       "    <tr>\n",
       "      <th>9</th>\n",
       "      <td>UV Protection Rectangular Sunglasses (Free Size)</td>\n",
       "      <td>₹232₹2,59991% off</td>\n",
       "    </tr>\n",
       "    <tr>\n",
       "      <th>10</th>\n",
       "      <td>UV Protection, Polarized, Mirrored Rectangular...</td>\n",
       "      <td>₹165₹1,69990% off</td>\n",
       "    </tr>\n",
       "    <tr>\n",
       "      <th>11</th>\n",
       "      <td>UV Protection, Gradient Round Sunglasses (Free...</td>\n",
       "      <td>₹429₹1,99978% off</td>\n",
       "    </tr>\n",
       "    <tr>\n",
       "      <th>12</th>\n",
       "      <td>UV Protection Rectangular Sunglasses (Free Size)</td>\n",
       "      <td>₹199₹99980% off</td>\n",
       "    </tr>\n",
       "    <tr>\n",
       "      <th>13</th>\n",
       "      <td>UV Protection, Others Round, Aviator Sunglasse...</td>\n",
       "      <td>₹179₹99982% off</td>\n",
       "    </tr>\n",
       "    <tr>\n",
       "      <th>14</th>\n",
       "      <td>UV Protection Round Sunglasses (50)</td>\n",
       "      <td>₹269₹1,99686% off</td>\n",
       "    </tr>\n",
       "    <tr>\n",
       "      <th>15</th>\n",
       "      <td>Mirrored, UV Protection, Riding Glasses Wayfar...</td>\n",
       "      <td>₹295₹2,49988% off</td>\n",
       "    </tr>\n",
       "    <tr>\n",
       "      <th>16</th>\n",
       "      <td>UV Protection, Gradient Round Sunglasses (Free...</td>\n",
       "      <td>₹342₹1,99982% off</td>\n",
       "    </tr>\n",
       "    <tr>\n",
       "      <th>17</th>\n",
       "      <td>UV Protection Retro Square Sunglasses (Free Size)</td>\n",
       "      <td>₹328₹1,99983% off</td>\n",
       "    </tr>\n",
       "    <tr>\n",
       "      <th>18</th>\n",
       "      <td>UV Protection, Gradient Rectangular Sunglasses...</td>\n",
       "      <td>₹399₹1,99980% off</td>\n",
       "    </tr>\n",
       "    <tr>\n",
       "      <th>19</th>\n",
       "      <td>Polarized, UV Protection Retro Square Sunglass...</td>\n",
       "      <td>₹854₹1,99957% off\\nFree delivery</td>\n",
       "    </tr>\n",
       "    <tr>\n",
       "      <th>20</th>\n",
       "      <td>UV Protection Aviator Sunglasses (54)</td>\n",
       "      <td>₹206₹1,59987% off</td>\n",
       "    </tr>\n",
       "    <tr>\n",
       "      <th>21</th>\n",
       "      <td>UV Protection Aviator Sunglasses (Free Size)</td>\n",
       "      <td>₹183₹1,59988% off</td>\n",
       "    </tr>\n",
       "    <tr>\n",
       "      <th>22</th>\n",
       "      <td>UV Protection Retro Square Sunglasses (53)</td>\n",
       "      <td>₹289₹99971% off</td>\n",
       "    </tr>\n",
       "    <tr>\n",
       "      <th>23</th>\n",
       "      <td>Polarized, UV Protection Aviator Sunglasses (57)</td>\n",
       "      <td>₹759₹1,99962% off\\nFree delivery</td>\n",
       "    </tr>\n",
       "    <tr>\n",
       "      <th>24</th>\n",
       "      <td>Riding Glasses, UV Protection Oval Sunglasses ...</td>\n",
       "      <td>₹177₹1,28886% off</td>\n",
       "    </tr>\n",
       "    <tr>\n",
       "      <th>25</th>\n",
       "      <td>Polarized Round Sunglasses (48)</td>\n",
       "      <td>₹175₹49964% off</td>\n",
       "    </tr>\n",
       "    <tr>\n",
       "      <th>26</th>\n",
       "      <td>Mirrored, UV Protection, Gradient Round Sungla...</td>\n",
       "      <td>₹179₹1,46687% off</td>\n",
       "    </tr>\n",
       "    <tr>\n",
       "      <th>27</th>\n",
       "      <td>UV Protection Rectangular Sunglasses (Free Size)</td>\n",
       "      <td>₹474₹1,49968% off</td>\n",
       "    </tr>\n",
       "    <tr>\n",
       "      <th>28</th>\n",
       "      <td>UV Protection Rectangular Sunglasses (58)</td>\n",
       "      <td>₹474₹1,49968% off</td>\n",
       "    </tr>\n",
       "    <tr>\n",
       "      <th>29</th>\n",
       "      <td>UV Protection, Polarized Wayfarer Sunglasses (...</td>\n",
       "      <td>₹253₹1,29980% off</td>\n",
       "    </tr>\n",
       "    <tr>\n",
       "      <th>30</th>\n",
       "      <td>UV Protection Aviator Sunglasses (88)</td>\n",
       "      <td>₹255₹1,19978% off\\nOr Pay ₹242 + \\n 13</td>\n",
       "    </tr>\n",
       "    <tr>\n",
       "      <th>31</th>\n",
       "      <td>UV Protection, Gradient Retro Square Sunglasse...</td>\n",
       "      <td>₹331₹1,99983% off</td>\n",
       "    </tr>\n",
       "    <tr>\n",
       "      <th>32</th>\n",
       "      <td>UV Protection, Riding Glasses, Mirrored Wayfar...</td>\n",
       "      <td>₹184₹1,19984% off</td>\n",
       "    </tr>\n",
       "    <tr>\n",
       "      <th>33</th>\n",
       "      <td>Mirrored, UV Protection Wayfarer, Rectangular ...</td>\n",
       "      <td>₹258₹1,99987% off</td>\n",
       "    </tr>\n",
       "    <tr>\n",
       "      <th>34</th>\n",
       "      <td>UV Protection Round Sunglasses (48)</td>\n",
       "      <td>₹260₹79967% off</td>\n",
       "    </tr>\n",
       "    <tr>\n",
       "      <th>35</th>\n",
       "      <td>Toughened Glass Lens, UV Protection Aviator Su...</td>\n",
       "      <td>₹860₹3,69976% off\\nFree delivery</td>\n",
       "    </tr>\n",
       "    <tr>\n",
       "      <th>36</th>\n",
       "      <td>UV Protection, Polarized, Mirrored Rectangular...</td>\n",
       "      <td>₹181₹99981% off</td>\n",
       "    </tr>\n",
       "    <tr>\n",
       "      <th>37</th>\n",
       "      <td>UV Protection, Polarized Oval, Retro Square Su...</td>\n",
       "      <td>₹179₹49964% off</td>\n",
       "    </tr>\n",
       "    <tr>\n",
       "      <th>38</th>\n",
       "      <td>Polarized, Night Vision, Riding Glasses Sports...</td>\n",
       "      <td>₹474₹1,99976% off</td>\n",
       "    </tr>\n",
       "    <tr>\n",
       "      <th>39</th>\n",
       "      <td>UV Protection, Gradient Oval Sunglasses (58)</td>\n",
       "      <td>₹446₹1,52570% off</td>\n",
       "    </tr>\n",
       "  </tbody>\n",
       "</table>\n",
       "</div>"
      ],
      "text/plain": [
       "                                       Product Titles  \\\n",
       "0   UV Protection, Gradient Butterfly, Retro Squar...   \n",
       "1                  UV Protection Oval Sunglasses (60)   \n",
       "2                 UV Protection Round Sunglasses (54)   \n",
       "3                 UV Protection Round Sunglasses (53)   \n",
       "4   UV Protection, Mirrored Retro Square Sunglasse...   \n",
       "5              UV Protection Wayfarer Sunglasses (50)   \n",
       "6                 UV Protection Round Sunglasses (54)   \n",
       "7     UV Protection, Gradient Cat-eye Sunglasses (61)   \n",
       "8   UV Protection, Polarized, Mirrored Round Sungl...   \n",
       "9    UV Protection Rectangular Sunglasses (Free Size)   \n",
       "10  UV Protection, Polarized, Mirrored Rectangular...   \n",
       "11  UV Protection, Gradient Round Sunglasses (Free...   \n",
       "12   UV Protection Rectangular Sunglasses (Free Size)   \n",
       "13  UV Protection, Others Round, Aviator Sunglasse...   \n",
       "14                UV Protection Round Sunglasses (50)   \n",
       "15  Mirrored, UV Protection, Riding Glasses Wayfar...   \n",
       "16  UV Protection, Gradient Round Sunglasses (Free...   \n",
       "17  UV Protection Retro Square Sunglasses (Free Size)   \n",
       "18  UV Protection, Gradient Rectangular Sunglasses...   \n",
       "19  Polarized, UV Protection Retro Square Sunglass...   \n",
       "20              UV Protection Aviator Sunglasses (54)   \n",
       "21       UV Protection Aviator Sunglasses (Free Size)   \n",
       "22         UV Protection Retro Square Sunglasses (53)   \n",
       "23   Polarized, UV Protection Aviator Sunglasses (57)   \n",
       "24  Riding Glasses, UV Protection Oval Sunglasses ...   \n",
       "25                    Polarized Round Sunglasses (48)   \n",
       "26  Mirrored, UV Protection, Gradient Round Sungla...   \n",
       "27   UV Protection Rectangular Sunglasses (Free Size)   \n",
       "28          UV Protection Rectangular Sunglasses (58)   \n",
       "29  UV Protection, Polarized Wayfarer Sunglasses (...   \n",
       "30              UV Protection Aviator Sunglasses (88)   \n",
       "31  UV Protection, Gradient Retro Square Sunglasse...   \n",
       "32  UV Protection, Riding Glasses, Mirrored Wayfar...   \n",
       "33  Mirrored, UV Protection Wayfarer, Rectangular ...   \n",
       "34                UV Protection Round Sunglasses (48)   \n",
       "35  Toughened Glass Lens, UV Protection Aviator Su...   \n",
       "36  UV Protection, Polarized, Mirrored Rectangular...   \n",
       "37  UV Protection, Polarized Oval, Retro Square Su...   \n",
       "38  Polarized, Night Vision, Riding Glasses Sports...   \n",
       "39       UV Protection, Gradient Oval Sunglasses (58)   \n",
       "\n",
       "                                     Price  \n",
       "0                        ₹446₹1,52570% off  \n",
       "1                        ₹371₹1,09966% off  \n",
       "2                        ₹258₹2,49589% off  \n",
       "3                          ₹189₹99881% off  \n",
       "4                        ₹317₹1,99984% off  \n",
       "5                        ₹198₹1,29984% off  \n",
       "6                          ₹186₹99981% off  \n",
       "7                        ₹413₹1,70075% off  \n",
       "8                        ₹284₹1,69983% off  \n",
       "9                        ₹232₹2,59991% off  \n",
       "10                       ₹165₹1,69990% off  \n",
       "11                       ₹429₹1,99978% off  \n",
       "12                         ₹199₹99980% off  \n",
       "13                         ₹179₹99982% off  \n",
       "14                       ₹269₹1,99686% off  \n",
       "15                       ₹295₹2,49988% off  \n",
       "16                       ₹342₹1,99982% off  \n",
       "17                       ₹328₹1,99983% off  \n",
       "18                       ₹399₹1,99980% off  \n",
       "19        ₹854₹1,99957% off\\nFree delivery  \n",
       "20                       ₹206₹1,59987% off  \n",
       "21                       ₹183₹1,59988% off  \n",
       "22                         ₹289₹99971% off  \n",
       "23        ₹759₹1,99962% off\\nFree delivery  \n",
       "24                       ₹177₹1,28886% off  \n",
       "25                         ₹175₹49964% off  \n",
       "26                       ₹179₹1,46687% off  \n",
       "27                       ₹474₹1,49968% off  \n",
       "28                       ₹474₹1,49968% off  \n",
       "29                       ₹253₹1,29980% off  \n",
       "30  ₹255₹1,19978% off\\nOr Pay ₹242 + \\n 13  \n",
       "31                       ₹331₹1,99983% off  \n",
       "32                       ₹184₹1,19984% off  \n",
       "33                       ₹258₹1,99987% off  \n",
       "34                         ₹260₹79967% off  \n",
       "35        ₹860₹3,69976% off\\nFree delivery  \n",
       "36                         ₹181₹99981% off  \n",
       "37                         ₹179₹49964% off  \n",
       "38                       ₹474₹1,99976% off  \n",
       "39                       ₹446₹1,52570% off  "
      ]
     },
     "execution_count": 106,
     "metadata": {},
     "output_type": "execute_result"
    }
   ],
   "source": [
    "jobs = pd.DataFrame()\n",
    "jobs['Product Titles'] = product_titles\n",
    "jobs['Price'] = price_names\n",
    "jobs"
   ]
  },
  {
   "cell_type": "code",
   "execution_count": 2,
   "id": "5c2b1640",
   "metadata": {},
   "outputs": [
    {
     "name": "stdout",
     "output_type": "stream",
     "text": [
      "Requirement already satisfied: selenium in c:\\programdata\\anaconda3\\lib\\site-packages (4.1.3)\n",
      "Requirement already satisfied: urllib3[secure,socks]~=1.26 in c:\\programdata\\anaconda3\\lib\\site-packages (from selenium) (1.26.4)\n",
      "Requirement already satisfied: trio-websocket~=0.9 in c:\\programdata\\anaconda3\\lib\\site-packages (from selenium) (0.9.2)\n",
      "Requirement already satisfied: trio~=0.17 in c:\\programdata\\anaconda3\\lib\\site-packages (from selenium) (0.20.0)\n",
      "Requirement already satisfied: idna in c:\\programdata\\anaconda3\\lib\\site-packages (from trio~=0.17->selenium) (2.10)\n",
      "Requirement already satisfied: sortedcontainers in c:\\programdata\\anaconda3\\lib\\site-packages (from trio~=0.17->selenium) (2.3.0)\n",
      "Requirement already satisfied: attrs>=19.2.0 in c:\\programdata\\anaconda3\\lib\\site-packages (from trio~=0.17->selenium) (20.3.0)\n",
      "Requirement already satisfied: sniffio in c:\\programdata\\anaconda3\\lib\\site-packages (from trio~=0.17->selenium) (1.2.0)\n",
      "Requirement already satisfied: async-generator>=1.9 in c:\\programdata\\anaconda3\\lib\\site-packages (from trio~=0.17->selenium) (1.10)\n",
      "Requirement already satisfied: cffi>=1.14 in c:\\programdata\\anaconda3\\lib\\site-packages (from trio~=0.17->selenium) (1.14.5)\n",
      "Requirement already satisfied: outcome in c:\\programdata\\anaconda3\\lib\\site-packages (from trio~=0.17->selenium) (1.1.0)\n",
      "Requirement already satisfied: pycparser in c:\\programdata\\anaconda3\\lib\\site-packages (from cffi>=1.14->trio~=0.17->selenium) (2.20)\n",
      "Requirement already satisfied: wsproto>=0.14 in c:\\programdata\\anaconda3\\lib\\site-packages (from trio-websocket~=0.9->selenium) (1.1.0)\n",
      "Requirement already satisfied: PySocks!=1.5.7,<2.0,>=1.5.6 in c:\\programdata\\anaconda3\\lib\\site-packages (from urllib3[secure,socks]~=1.26->selenium) (1.7.1)\n",
      "Requirement already satisfied: cryptography>=1.3.4 in c:\\programdata\\anaconda3\\lib\\site-packages (from urllib3[secure,socks]~=1.26->selenium) (3.4.7)\n",
      "Requirement already satisfied: certifi in c:\\programdata\\anaconda3\\lib\\site-packages (from urllib3[secure,socks]~=1.26->selenium) (2020.12.5)\n",
      "Requirement already satisfied: pyOpenSSL>=0.14 in c:\\programdata\\anaconda3\\lib\\site-packages (from urllib3[secure,socks]~=1.26->selenium) (20.0.1)\n",
      "Requirement already satisfied: six>=1.5.2 in c:\\programdata\\anaconda3\\lib\\site-packages (from pyOpenSSL>=0.14->urllib3[secure,socks]~=1.26->selenium) (1.15.0)\n",
      "Requirement already satisfied: h11<1,>=0.9.0 in c:\\programdata\\anaconda3\\lib\\site-packages (from wsproto>=0.14->trio-websocket~=0.9->selenium) (0.13.0)\n"
     ]
    }
   ],
   "source": [
    "!pip install selenium"
   ]
  },
  {
   "cell_type": "code",
   "execution_count": 4,
   "id": "6a6b6f33",
   "metadata": {},
   "outputs": [],
   "source": [
    "import selenium\n",
    "from selenium import webdriver\n",
    "import pandas as pd\n",
    "import warnings\n",
    "warnings.filterwarnings(\"ignore\")"
   ]
  },
  {
   "cell_type": "code",
   "execution_count": 5,
   "id": "d8a6e9b2",
   "metadata": {},
   "outputs": [],
   "source": [
    "driver = webdriver.Chrome(r'C:/Users/hp/Downloads/chromedriver_win32/chromedriver.exe')"
   ]
  },
  {
   "cell_type": "code",
   "execution_count": 6,
   "id": "675e29bc",
   "metadata": {},
   "outputs": [],
   "source": [
    "driver = webdriver.Chrome('chromedriver.exe')"
   ]
  },
  {
   "cell_type": "code",
   "execution_count": 7,
   "id": "b9257731",
   "metadata": {},
   "outputs": [],
   "source": [
    "url = 'https://www.flipkart.com/'\n",
    "driver.get(url)"
   ]
  },
  {
   "cell_type": "code",
   "execution_count": 21,
   "id": "7eacd464",
   "metadata": {},
   "outputs": [
    {
     "data": {
      "text/plain": [
       "[<selenium.webdriver.remote.webelement.WebElement (session=\"c9b3d92be2a86b0855740e2705a79b3b\", element=\"c9ffb834-f21f-4ce3-991f-c27ccf084033\")>,\n",
       " <selenium.webdriver.remote.webelement.WebElement (session=\"c9b3d92be2a86b0855740e2705a79b3b\", element=\"a1f26043-b77b-4963-9eba-d15a08d11c87\")>,\n",
       " <selenium.webdriver.remote.webelement.WebElement (session=\"c9b3d92be2a86b0855740e2705a79b3b\", element=\"4c1dc6c3-89dd-40b1-b43e-6f066d54f4a4\")>,\n",
       " <selenium.webdriver.remote.webelement.WebElement (session=\"c9b3d92be2a86b0855740e2705a79b3b\", element=\"2ed49cea-7b57-4942-ba13-8202626abeb8\")>]"
      ]
     },
     "execution_count": 21,
     "metadata": {},
     "output_type": "execute_result"
    }
   ],
   "source": [
    "title_tags = driver.find_elements_by_xpath('//a[@class=\"IRpwTa\"]')\n",
    "len(title_tags)\n",
    "title_tags[0:4]"
   ]
  },
  {
   "cell_type": "code",
   "execution_count": 22,
   "id": "e55ca39e",
   "metadata": {},
   "outputs": [
    {
     "data": {
      "text/plain": [
       "['5011-Latest Collection Stylish Casual Loafer Sneakers S...',\n",
       " 'Modern Trendy Sneakers Shoes Sneakers For Men',\n",
       " 'Casual Sneakers Shoes For Men And Boys Sneakers For Men',\n",
       " \"White Sneaker For Men's/Boy's Sneakers For Men\"]"
      ]
     },
     "execution_count": 22,
     "metadata": {},
     "output_type": "execute_result"
    }
   ],
   "source": [
    "product_titles = []\n",
    "for i in title_tags:\n",
    "    product_titles.append(i.text)\n",
    "len(product_titles)\n",
    "product_titles[0:4]"
   ]
  },
  {
   "cell_type": "code",
   "execution_count": 23,
   "id": "57a03765",
   "metadata": {},
   "outputs": [
    {
     "data": {
      "text/plain": [
       "[<selenium.webdriver.remote.webelement.WebElement (session=\"c9b3d92be2a86b0855740e2705a79b3b\", element=\"bb039771-d310-414d-bd89-bbe073b64a52\")>,\n",
       " <selenium.webdriver.remote.webelement.WebElement (session=\"c9b3d92be2a86b0855740e2705a79b3b\", element=\"a809a618-6337-4284-a1aa-64030fbadc46\")>,\n",
       " <selenium.webdriver.remote.webelement.WebElement (session=\"c9b3d92be2a86b0855740e2705a79b3b\", element=\"cfc89358-86b2-439f-ad95-acce77fa406f\")>,\n",
       " <selenium.webdriver.remote.webelement.WebElement (session=\"c9b3d92be2a86b0855740e2705a79b3b\", element=\"57756d98-3505-4b78-a4ec-c3c2d382c8c7\")>]"
      ]
     },
     "execution_count": 23,
     "metadata": {},
     "output_type": "execute_result"
    }
   ],
   "source": [
    "price_tags = driver.find_elements_by_xpath('//a[@class=\"_3bPFwb\"]')\n",
    "price_tags[0:4]"
   ]
  },
  {
   "cell_type": "code",
   "execution_count": 24,
   "id": "39bb78f8",
   "metadata": {},
   "outputs": [
    {
     "data": {
      "text/plain": [
       "['₹199₹49960% off',\n",
       " '₹259₹1,29980% off\\nOr Pay ₹246 + \\n 13',\n",
       " '₹499₹99950% off',\n",
       " '₹298₹99970% off']"
      ]
     },
     "execution_count": 24,
     "metadata": {},
     "output_type": "execute_result"
    }
   ],
   "source": [
    "price_names = []\n",
    "for i in price_tags:\n",
    "    price_names.append(i.text)\n",
    "price_names[0:4]"
   ]
  },
  {
   "cell_type": "code",
   "execution_count": 25,
   "id": "e7e6a414",
   "metadata": {},
   "outputs": [
    {
     "data": {
      "text/plain": [
       "(39, 40)"
      ]
     },
     "execution_count": 25,
     "metadata": {},
     "output_type": "execute_result"
    }
   ],
   "source": [
    "len(product_titles)"
   ]
  },
  {
   "cell_type": "code",
   "execution_count": 27,
   "id": "dec5a9ab",
   "metadata": {},
   "outputs": [
    {
     "data": {
      "text/html": [
       "<div>\n",
       "<style scoped>\n",
       "    .dataframe tbody tr th:only-of-type {\n",
       "        vertical-align: middle;\n",
       "    }\n",
       "\n",
       "    .dataframe tbody tr th {\n",
       "        vertical-align: top;\n",
       "    }\n",
       "\n",
       "    .dataframe thead th {\n",
       "        text-align: right;\n",
       "    }\n",
       "</style>\n",
       "<table border=\"1\" class=\"dataframe\">\n",
       "  <thead>\n",
       "    <tr style=\"text-align: right;\">\n",
       "      <th></th>\n",
       "      <th>Product Titles</th>\n",
       "    </tr>\n",
       "  </thead>\n",
       "  <tbody>\n",
       "    <tr>\n",
       "      <th>0</th>\n",
       "      <td>5011-Latest Collection Stylish Casual Loafer S...</td>\n",
       "    </tr>\n",
       "    <tr>\n",
       "      <th>1</th>\n",
       "      <td>Modern Trendy Sneakers Shoes Sneakers For Men</td>\n",
       "    </tr>\n",
       "    <tr>\n",
       "      <th>2</th>\n",
       "      <td>Casual Sneakers Shoes For Men And Boys Sneaker...</td>\n",
       "    </tr>\n",
       "    <tr>\n",
       "      <th>3</th>\n",
       "      <td>White Sneaker For Men's/Boy's Sneakers For Men</td>\n",
       "    </tr>\n",
       "    <tr>\n",
       "      <th>4</th>\n",
       "      <td>Sports Running Shoes Sneakers For Men</td>\n",
       "    </tr>\n",
       "    <tr>\n",
       "      <th>5</th>\n",
       "      <td>Super Stylish &amp; Trendy Combo Pack of 02 Pairs ...</td>\n",
       "    </tr>\n",
       "    <tr>\n",
       "      <th>6</th>\n",
       "      <td>Modern &amp; Trendy Collection Combo Pack of 02 Sh...</td>\n",
       "    </tr>\n",
       "    <tr>\n",
       "      <th>7</th>\n",
       "      <td>Sneakers For Men</td>\n",
       "    </tr>\n",
       "    <tr>\n",
       "      <th>8</th>\n",
       "      <td>Sneakers For Men</td>\n",
       "    </tr>\n",
       "    <tr>\n",
       "      <th>9</th>\n",
       "      <td>casual for men Sneakers For Men</td>\n",
       "    </tr>\n",
       "    <tr>\n",
       "      <th>10</th>\n",
       "      <td>Sneakers For Men</td>\n",
       "    </tr>\n",
       "    <tr>\n",
       "      <th>11</th>\n",
       "      <td>Series 7 Sneakers For Men</td>\n",
       "    </tr>\n",
       "    <tr>\n",
       "      <th>12</th>\n",
       "      <td>MADRYN 2.O Sneakers For Men</td>\n",
       "    </tr>\n",
       "    <tr>\n",
       "      <th>13</th>\n",
       "      <td>Skypy-31 Walking Shoes,Training Shoes,Sneakers...</td>\n",
       "    </tr>\n",
       "    <tr>\n",
       "      <th>14</th>\n",
       "      <td>Trendy Sneakers For Men</td>\n",
       "    </tr>\n",
       "    <tr>\n",
       "      <th>15</th>\n",
       "      <td>Shark-41 Sneakers For Men</td>\n",
       "    </tr>\n",
       "    <tr>\n",
       "      <th>16</th>\n",
       "      <td>Court Vision Low Better Sneakers For Men</td>\n",
       "    </tr>\n",
       "    <tr>\n",
       "      <th>17</th>\n",
       "      <td>Sneakers For Men Sneakers For Men</td>\n",
       "    </tr>\n",
       "    <tr>\n",
       "      <th>18</th>\n",
       "      <td>MARWICK Sneakers For Men</td>\n",
       "    </tr>\n",
       "    <tr>\n",
       "      <th>19</th>\n",
       "      <td>Sneakers For Men</td>\n",
       "    </tr>\n",
       "    <tr>\n",
       "      <th>20</th>\n",
       "      <td>AART CORE Sneaker For Men</td>\n",
       "    </tr>\n",
       "    <tr>\n",
       "      <th>21</th>\n",
       "      <td>NATE Sneakers For Men</td>\n",
       "    </tr>\n",
       "    <tr>\n",
       "      <th>22</th>\n",
       "      <td>OCTAVIA Sneakers For Men</td>\n",
       "    </tr>\n",
       "    <tr>\n",
       "      <th>23</th>\n",
       "      <td>Casual Sneakers White Shoes For Men Sneakers F...</td>\n",
       "    </tr>\n",
       "    <tr>\n",
       "      <th>24</th>\n",
       "      <td>casual for men Sneakers For Men</td>\n",
       "    </tr>\n",
       "    <tr>\n",
       "      <th>25</th>\n",
       "      <td>White Sneakers Sneakers For Men</td>\n",
       "    </tr>\n",
       "    <tr>\n",
       "      <th>26</th>\n",
       "      <td>Puma Smash v2 Buck Sneakers For Men</td>\n",
       "    </tr>\n",
       "    <tr>\n",
       "      <th>27</th>\n",
       "      <td>Sneakers For Men</td>\n",
       "    </tr>\n",
       "    <tr>\n",
       "      <th>28</th>\n",
       "      <td>Casual Sneakrs For Men Sneakers For Men</td>\n",
       "    </tr>\n",
       "    <tr>\n",
       "      <th>29</th>\n",
       "      <td>Men White Solid Sneakers Sneakers For Men</td>\n",
       "    </tr>\n",
       "    <tr>\n",
       "      <th>30</th>\n",
       "      <td>Casual , Partywear Sneakers Shoes For Men's An...</td>\n",
       "    </tr>\n",
       "    <tr>\n",
       "      <th>31</th>\n",
       "      <td>Men 5014 Latest Collection Stylish Casual Spor...</td>\n",
       "    </tr>\n",
       "    <tr>\n",
       "      <th>32</th>\n",
       "      <td>BMW MMS Future Kart Cat Sneakers For Men</td>\n",
       "    </tr>\n",
       "    <tr>\n",
       "      <th>33</th>\n",
       "      <td>Court Royale 2 Next Nature Sneakers For Men</td>\n",
       "    </tr>\n",
       "    <tr>\n",
       "      <th>34</th>\n",
       "      <td>Sneakers For Men</td>\n",
       "    </tr>\n",
       "    <tr>\n",
       "      <th>35</th>\n",
       "      <td>Casual , Partywear Sneakers Shoes For Men's An...</td>\n",
       "    </tr>\n",
       "    <tr>\n",
       "      <th>36</th>\n",
       "      <td>Sneakers For Men</td>\n",
       "    </tr>\n",
       "    <tr>\n",
       "      <th>37</th>\n",
       "      <td>True Black Shoe Sneakers For Men</td>\n",
       "    </tr>\n",
       "    <tr>\n",
       "      <th>38</th>\n",
       "      <td>Sneakers For Men</td>\n",
       "    </tr>\n",
       "  </tbody>\n",
       "</table>\n",
       "</div>"
      ],
      "text/plain": [
       "                                       Product Titles\n",
       "0   5011-Latest Collection Stylish Casual Loafer S...\n",
       "1       Modern Trendy Sneakers Shoes Sneakers For Men\n",
       "2   Casual Sneakers Shoes For Men And Boys Sneaker...\n",
       "3      White Sneaker For Men's/Boy's Sneakers For Men\n",
       "4               Sports Running Shoes Sneakers For Men\n",
       "5   Super Stylish & Trendy Combo Pack of 02 Pairs ...\n",
       "6   Modern & Trendy Collection Combo Pack of 02 Sh...\n",
       "7                                    Sneakers For Men\n",
       "8                                    Sneakers For Men\n",
       "9                     casual for men Sneakers For Men\n",
       "10                                   Sneakers For Men\n",
       "11                          Series 7 Sneakers For Men\n",
       "12                        MADRYN 2.O Sneakers For Men\n",
       "13  Skypy-31 Walking Shoes,Training Shoes,Sneakers...\n",
       "14                            Trendy Sneakers For Men\n",
       "15                          Shark-41 Sneakers For Men\n",
       "16           Court Vision Low Better Sneakers For Men\n",
       "17                  Sneakers For Men Sneakers For Men\n",
       "18                           MARWICK Sneakers For Men\n",
       "19                                   Sneakers For Men\n",
       "20                          AART CORE Sneaker For Men\n",
       "21                              NATE Sneakers For Men\n",
       "22                           OCTAVIA Sneakers For Men\n",
       "23  Casual Sneakers White Shoes For Men Sneakers F...\n",
       "24                    casual for men Sneakers For Men\n",
       "25                    White Sneakers Sneakers For Men\n",
       "26                Puma Smash v2 Buck Sneakers For Men\n",
       "27                                   Sneakers For Men\n",
       "28            Casual Sneakrs For Men Sneakers For Men\n",
       "29          Men White Solid Sneakers Sneakers For Men\n",
       "30  Casual , Partywear Sneakers Shoes For Men's An...\n",
       "31  Men 5014 Latest Collection Stylish Casual Spor...\n",
       "32           BMW MMS Future Kart Cat Sneakers For Men\n",
       "33        Court Royale 2 Next Nature Sneakers For Men\n",
       "34                                   Sneakers For Men\n",
       "35  Casual , Partywear Sneakers Shoes For Men's An...\n",
       "36                                   Sneakers For Men\n",
       "37                   True Black Shoe Sneakers For Men\n",
       "38                                   Sneakers For Men"
      ]
     },
     "execution_count": 27,
     "metadata": {},
     "output_type": "execute_result"
    }
   ],
   "source": [
    "jobs = pd.DataFrame()\n",
    "jobs['Product Titles'] = product_titles\n",
    "jobs"
   ]
  },
  {
   "cell_type": "code",
   "execution_count": 32,
   "id": "472f618e",
   "metadata": {},
   "outputs": [],
   "source": [
    "driver = webdriver.Chrome(r'C:/Users/hp/Downloads/chromedriver_win32/chromedriver.exe')"
   ]
  },
  {
   "cell_type": "code",
   "execution_count": 33,
   "id": "222e40d1",
   "metadata": {},
   "outputs": [],
   "source": [
    "driver = webdriver.Chrome('chromedriver.exe')"
   ]
  },
  {
   "cell_type": "code",
   "execution_count": 34,
   "id": "5535f027",
   "metadata": {},
   "outputs": [],
   "source": [
    "url = 'https://www.amazon.com/'\n",
    "driver.get(url)"
   ]
  },
  {
   "cell_type": "code",
   "execution_count": 43,
   "id": "1b71d394",
   "metadata": {},
   "outputs": [
    {
     "data": {
      "text/plain": [
       "[]"
      ]
     },
     "execution_count": 43,
     "metadata": {},
     "output_type": "execute_result"
    }
   ],
   "source": [
    "title_tags = driver.find_elements_by_xpath('//a[@class=\"a-size-mini a-spacing-none a-color-base s-line-clamp-2\"]')\n",
    "len(title_tags)\n",
    "title_tags[0:3]"
   ]
  },
  {
   "cell_type": "code",
   "execution_count": 1,
   "id": "82591bfb",
   "metadata": {},
   "outputs": [
    {
     "name": "stdout",
     "output_type": "stream",
     "text": [
      "Requirement already satisfied: selenium in c:\\programdata\\anaconda3\\lib\\site-packages (4.1.3)\n",
      "Requirement already satisfied: urllib3[secure,socks]~=1.26 in c:\\programdata\\anaconda3\\lib\\site-packages (from selenium) (1.26.4)\n",
      "Requirement already satisfied: trio-websocket~=0.9 in c:\\programdata\\anaconda3\\lib\\site-packages (from selenium) (0.9.2)\n",
      "Requirement already satisfied: trio~=0.17 in c:\\programdata\\anaconda3\\lib\\site-packages (from selenium) (0.20.0)\n",
      "Requirement already satisfied: idna in c:\\programdata\\anaconda3\\lib\\site-packages (from trio~=0.17->selenium) (2.10)\n",
      "Requirement already satisfied: attrs>=19.2.0 in c:\\programdata\\anaconda3\\lib\\site-packages (from trio~=0.17->selenium) (20.3.0)\n",
      "Requirement already satisfied: sniffio in c:\\programdata\\anaconda3\\lib\\site-packages (from trio~=0.17->selenium) (1.2.0)\n",
      "Requirement already satisfied: async-generator>=1.9 in c:\\programdata\\anaconda3\\lib\\site-packages (from trio~=0.17->selenium) (1.10)\n",
      "Requirement already satisfied: outcome in c:\\programdata\\anaconda3\\lib\\site-packages (from trio~=0.17->selenium) (1.1.0)\n",
      "Requirement already satisfied: cffi>=1.14 in c:\\programdata\\anaconda3\\lib\\site-packages (from trio~=0.17->selenium) (1.14.5)\n",
      "Requirement already satisfied: sortedcontainers in c:\\programdata\\anaconda3\\lib\\site-packages (from trio~=0.17->selenium) (2.3.0)\n",
      "Requirement already satisfied: pycparser in c:\\programdata\\anaconda3\\lib\\site-packages (from cffi>=1.14->trio~=0.17->selenium) (2.20)\n",
      "Requirement already satisfied: wsproto>=0.14 in c:\\programdata\\anaconda3\\lib\\site-packages (from trio-websocket~=0.9->selenium) (1.1.0)\n",
      "Requirement already satisfied: cryptography>=1.3.4 in c:\\programdata\\anaconda3\\lib\\site-packages (from urllib3[secure,socks]~=1.26->selenium) (3.4.7)\n",
      "Requirement already satisfied: pyOpenSSL>=0.14 in c:\\programdata\\anaconda3\\lib\\site-packages (from urllib3[secure,socks]~=1.26->selenium) (20.0.1)\n",
      "Requirement already satisfied: certifi in c:\\programdata\\anaconda3\\lib\\site-packages (from urllib3[secure,socks]~=1.26->selenium) (2020.12.5)\n",
      "Requirement already satisfied: PySocks!=1.5.7,<2.0,>=1.5.6 in c:\\programdata\\anaconda3\\lib\\site-packages (from urllib3[secure,socks]~=1.26->selenium) (1.7.1)\n",
      "Requirement already satisfied: six>=1.5.2 in c:\\programdata\\anaconda3\\lib\\site-packages (from pyOpenSSL>=0.14->urllib3[secure,socks]~=1.26->selenium) (1.15.0)\n",
      "Requirement already satisfied: h11<1,>=0.9.0 in c:\\programdata\\anaconda3\\lib\\site-packages (from wsproto>=0.14->trio-websocket~=0.9->selenium) (0.13.0)\n"
     ]
    }
   ],
   "source": [
    "!pip install selenium"
   ]
  },
  {
   "cell_type": "code",
   "execution_count": 2,
   "id": "fa88c696",
   "metadata": {},
   "outputs": [],
   "source": [
    "import selenium\n",
    "from selenium import webdriver\n",
    "import pandas as pd\n",
    "import warnings\n",
    "warnings.filterwarnings(\"ignore\")"
   ]
  },
  {
   "cell_type": "code",
   "execution_count": 3,
   "id": "a81bbd06",
   "metadata": {},
   "outputs": [],
   "source": [
    "driver = webdriver.Chrome(r'C:/Users/hp/Downloads/chromedriver_win32/chromedriver.exe')"
   ]
  },
  {
   "cell_type": "code",
   "execution_count": 4,
   "id": "c69c5681",
   "metadata": {},
   "outputs": [],
   "source": [
    "driver = webdriver.Chrome('chromedriver.exe')"
   ]
  },
  {
   "cell_type": "code",
   "execution_count": 5,
   "id": "21004253",
   "metadata": {},
   "outputs": [],
   "source": [
    "url = 'https://www.ambitionbox.com/'\n",
    "driver.get(url)"
   ]
  },
  {
   "cell_type": "code",
   "execution_count": 15,
   "id": "dc90a582",
   "metadata": {},
   "outputs": [
    {
     "data": {
      "text/plain": [
       "[<selenium.webdriver.remote.webelement.WebElement (session=\"8d72348d25f5e9e632fbaf9d970f3a2b\", element=\"17e1e600-fad2-45b9-a410-4a1f408dbbae\")>,\n",
       " <selenium.webdriver.remote.webelement.WebElement (session=\"8d72348d25f5e9e632fbaf9d970f3a2b\", element=\"ef611e83-0cd2-4e8a-8b99-a5690ff13db1\")>,\n",
       " <selenium.webdriver.remote.webelement.WebElement (session=\"8d72348d25f5e9e632fbaf9d970f3a2b\", element=\"69ab5805-22c7-4cea-89fe-6495c522a801\")>,\n",
       " <selenium.webdriver.remote.webelement.WebElement (session=\"8d72348d25f5e9e632fbaf9d970f3a2b\", element=\"2ab63949-fc77-47f1-a24c-9e7fe6273f9f\")>,\n",
       " <selenium.webdriver.remote.webelement.WebElement (session=\"8d72348d25f5e9e632fbaf9d970f3a2b\", element=\"42464cdd-f78c-4080-a104-95169d3a7131\")>,\n",
       " <selenium.webdriver.remote.webelement.WebElement (session=\"8d72348d25f5e9e632fbaf9d970f3a2b\", element=\"754fd92a-bca7-427c-a797-73a7d197c571\")>,\n",
       " <selenium.webdriver.remote.webelement.WebElement (session=\"8d72348d25f5e9e632fbaf9d970f3a2b\", element=\"93014d0d-4d44-44e2-a838-9000554ef7e6\")>,\n",
       " <selenium.webdriver.remote.webelement.WebElement (session=\"8d72348d25f5e9e632fbaf9d970f3a2b\", element=\"7da42697-cbbf-4875-854e-50731d9703b1\")>,\n",
       " <selenium.webdriver.remote.webelement.WebElement (session=\"8d72348d25f5e9e632fbaf9d970f3a2b\", element=\"202cb954-08a7-4b32-b4ca-bf0a59b7a158\")>,\n",
       " <selenium.webdriver.remote.webelement.WebElement (session=\"8d72348d25f5e9e632fbaf9d970f3a2b\", element=\"c663b156-b18e-4ad5-a749-2e540f1b477a\")>]"
      ]
     },
     "execution_count": 15,
     "metadata": {},
     "output_type": "execute_result"
    }
   ],
   "source": [
    "title_tags = driver.find_elements_by_xpath('//a[@class=\"title noclick\"]')\n",
    "len(title_tags)\n",
    "title_tags[0:10]"
   ]
  },
  {
   "cell_type": "code",
   "execution_count": 16,
   "id": "44d2402d",
   "metadata": {},
   "outputs": [
    {
     "data": {
      "text/plain": [
       "['Excellent Opportunity For Freshers For AI/ML, Data Scientist, BI, QA',\n",
       " \"HCL Hiring Data Scientist (Loc: Noida / Chennai / B'lore)\",\n",
       " 'Data Scientist',\n",
       " '',\n",
       " '',\n",
       " '',\n",
       " '',\n",
       " '',\n",
       " '',\n",
       " '']"
      ]
     },
     "execution_count": 16,
     "metadata": {},
     "output_type": "execute_result"
    }
   ],
   "source": [
    "job_titles = []\n",
    "for i in title_tags:\n",
    "    job_titles.append(i.text)\n",
    "len(job_titles)\n",
    "job_titles[0:10]"
   ]
  },
  {
   "cell_type": "code",
   "execution_count": 21,
   "id": "4c154314",
   "metadata": {},
   "outputs": [
    {
     "data": {
      "text/plain": [
       "10"
      ]
     },
     "execution_count": 21,
     "metadata": {},
     "output_type": "execute_result"
    }
   ],
   "source": [
    "len(job_titles)"
   ]
  },
  {
   "cell_type": "code",
   "execution_count": 22,
   "id": "a2d0a1d5",
   "metadata": {},
   "outputs": [
    {
     "data": {
      "text/html": [
       "<div>\n",
       "<style scoped>\n",
       "    .dataframe tbody tr th:only-of-type {\n",
       "        vertical-align: middle;\n",
       "    }\n",
       "\n",
       "    .dataframe tbody tr th {\n",
       "        vertical-align: top;\n",
       "    }\n",
       "\n",
       "    .dataframe thead th {\n",
       "        text-align: right;\n",
       "    }\n",
       "</style>\n",
       "<table border=\"1\" class=\"dataframe\">\n",
       "  <thead>\n",
       "    <tr style=\"text-align: right;\">\n",
       "      <th></th>\n",
       "      <th>Job Titles</th>\n",
       "    </tr>\n",
       "  </thead>\n",
       "  <tbody>\n",
       "    <tr>\n",
       "      <th>0</th>\n",
       "      <td>Excellent Opportunity For Freshers For AI/ML, ...</td>\n",
       "    </tr>\n",
       "    <tr>\n",
       "      <th>1</th>\n",
       "      <td>HCL Hiring Data Scientist (Loc: Noida / Chenna...</td>\n",
       "    </tr>\n",
       "    <tr>\n",
       "      <th>2</th>\n",
       "      <td>Data Scientist</td>\n",
       "    </tr>\n",
       "    <tr>\n",
       "      <th>3</th>\n",
       "      <td></td>\n",
       "    </tr>\n",
       "    <tr>\n",
       "      <th>4</th>\n",
       "      <td></td>\n",
       "    </tr>\n",
       "    <tr>\n",
       "      <th>5</th>\n",
       "      <td></td>\n",
       "    </tr>\n",
       "    <tr>\n",
       "      <th>6</th>\n",
       "      <td></td>\n",
       "    </tr>\n",
       "    <tr>\n",
       "      <th>7</th>\n",
       "      <td></td>\n",
       "    </tr>\n",
       "    <tr>\n",
       "      <th>8</th>\n",
       "      <td></td>\n",
       "    </tr>\n",
       "    <tr>\n",
       "      <th>9</th>\n",
       "      <td></td>\n",
       "    </tr>\n",
       "  </tbody>\n",
       "</table>\n",
       "</div>"
      ],
      "text/plain": [
       "                                          Job Titles\n",
       "0  Excellent Opportunity For Freshers For AI/ML, ...\n",
       "1  HCL Hiring Data Scientist (Loc: Noida / Chenna...\n",
       "2                                     Data Scientist\n",
       "3                                                   \n",
       "4                                                   \n",
       "5                                                   \n",
       "6                                                   \n",
       "7                                                   \n",
       "8                                                   \n",
       "9                                                   "
      ]
     },
     "execution_count": 22,
     "metadata": {},
     "output_type": "execute_result"
    }
   ],
   "source": [
    "jobs = pd.DataFrame()\n",
    "jobs['Job Titles'] = job_titles\n",
    "jobs"
   ]
  },
  {
   "cell_type": "code",
   "execution_count": 23,
   "id": "c6991372",
   "metadata": {},
   "outputs": [],
   "source": [
    "driver = webdriver.Chrome(r'C:/Users/hp/Downloads/chromedriver_win32/chromedriver.exe')"
   ]
  },
  {
   "cell_type": "code",
   "execution_count": 24,
   "id": "9b096e81",
   "metadata": {},
   "outputs": [],
   "source": [
    "driver = webdriver.Chrome('chromedriver.exe')"
   ]
  },
  {
   "cell_type": "code",
   "execution_count": 25,
   "id": "8dcae265",
   "metadata": {},
   "outputs": [],
   "source": [
    "url = 'https://www.ambitionbox.com/'\n",
    "driver.get(url)"
   ]
  },
  {
   "cell_type": "code",
   "execution_count": 35,
   "id": "235f47ef",
   "metadata": {},
   "outputs": [
    {
     "data": {
      "text/plain": [
       "[]"
      ]
     },
     "execution_count": 35,
     "metadata": {},
     "output_type": "execute_result"
    }
   ],
   "source": [
    "company_tags = driver.find_elements_by_xpath('//a[@class=\"a\"]')\n",
    "company_tags[0:10]"
   ]
  },
  {
   "cell_type": "code",
   "execution_count": null,
   "id": "f2ac3701",
   "metadata": {},
   "outputs": [],
   "source": []
  }
 ],
 "metadata": {
  "kernelspec": {
   "display_name": "Python 3",
   "language": "python",
   "name": "python3"
  },
  "language_info": {
   "codemirror_mode": {
    "name": "ipython",
    "version": 3
   },
   "file_extension": ".py",
   "mimetype": "text/x-python",
   "name": "python",
   "nbconvert_exporter": "python",
   "pygments_lexer": "ipython3",
   "version": "3.8.8"
  }
 },
 "nbformat": 4,
 "nbformat_minor": 5
}
